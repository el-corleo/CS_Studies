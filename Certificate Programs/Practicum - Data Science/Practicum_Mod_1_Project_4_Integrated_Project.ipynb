{
 "cells": [
  {
   "cell_type": "markdown",
   "metadata": {},
   "source": [
    "<a id='toc'></a>"
   ]
  },
  {
   "cell_type": "markdown",
   "metadata": {},
   "source": [
    "# Table of Contents"
   ]
  },
  {
   "cell_type": "markdown",
   "metadata": {},
   "source": [
    "<ul>\n",
    "    <li><a href='#section_0'>Section 0: Introduction</a></li>\n",
    "    <li><a href='#section_1'>Section 1: Data Loading</a></li>\n",
    "    <li><a href='#section_2'>Section 2: Data Preprocessing</a></li>\n",
    "    <li><a href='#section_3'>Section 3: Exploratory Data Analysis</a></li>\n",
    "    <li><a href='#section_4'>Section 4: Regional Profiles</a></li>\n",
    "    <li><a href='#section_5'>Section 5: Hypothesis Testing</a></li>\n",
    "    <li><a href='#section_6'>Section 6: Conclusion</a></li>\n",
    "</ul>"
   ]
  },
  {
   "cell_type": "markdown",
   "metadata": {},
   "source": [
    "<a id='section_0'></a>"
   ]
  },
  {
   "cell_type": "markdown",
   "metadata": {},
   "source": [
    "# Section 0: Introduction\n",
    "<a href='#section_1'>[Skip to Data Loading]</a>"
   ]
  },
  {
   "cell_type": "markdown",
   "metadata": {},
   "source": [
    "The only way to beat the raging fire that is Steam is not by fighting fire with fire, but rather by fighting fire with Ice &#174;!\n",
    "\n",
    "Our Mission:\n",
    "\n",
    "- Scour the user and expert reviews, genres, platforms (e.g. Xbox or PlayStation), and historical data on game sales available from open sources. \n",
    "- Identify patterns that determine whether a game succeeds or not.\n",
    "- Help plan for the upcoming year's marketing strategy."
   ]
  },
  {
   "cell_type": "markdown",
   "metadata": {},
   "source": [
    "<a id='section_1'></a>"
   ]
  },
  {
   "cell_type": "markdown",
   "metadata": {},
   "source": [
    "# Section 1: Data Loading\n",
    "<a href='#section_2'>[Skip to Data Preprocessing]</a>"
   ]
  },
  {
   "cell_type": "code",
   "execution_count": 1,
   "metadata": {},
   "outputs": [],
   "source": [
    "import pandas as pd\n",
    "import numpy as np\n",
    "import matplotlib.pyplot as plt\n",
    "from IPython.display import display_html\n",
    "from scipy import stats as st\n",
    "import sys\n",
    "import warnings\n",
    "\n",
    "if not sys.warnoptions:\n",
    "       warnings.simplefilter(\"ignore\")\n",
    "\n",
    "pd.set_option(\"display.precision\", 2)\n",
    "\n",
    "def display_side_by_side(*args):\n",
    "    html_str=''\n",
    "    for df in args:\n",
    "        html_str+=df.to_html()\n",
    "    display_html(html_str.replace('table','table style=\"display:inline\"'),raw=True)"
   ]
  },
  {
   "cell_type": "code",
   "execution_count": 2,
   "metadata": {},
   "outputs": [
    {
     "data": {
      "text/html": [
       "<div>\n",
       "<style scoped>\n",
       "    .dataframe tbody tr th:only-of-type {\n",
       "        vertical-align: middle;\n",
       "    }\n",
       "\n",
       "    .dataframe tbody tr th {\n",
       "        vertical-align: top;\n",
       "    }\n",
       "\n",
       "    .dataframe thead th {\n",
       "        text-align: right;\n",
       "    }\n",
       "</style>\n",
       "<table border=\"1\" class=\"dataframe\">\n",
       "  <thead>\n",
       "    <tr style=\"text-align: right;\">\n",
       "      <th></th>\n",
       "      <th>Name</th>\n",
       "      <th>Platform</th>\n",
       "      <th>Year_of_Release</th>\n",
       "      <th>Genre</th>\n",
       "      <th>NA_sales</th>\n",
       "      <th>EU_sales</th>\n",
       "      <th>JP_sales</th>\n",
       "      <th>Other_sales</th>\n",
       "      <th>Critic_Score</th>\n",
       "      <th>User_Score</th>\n",
       "      <th>Rating</th>\n",
       "    </tr>\n",
       "  </thead>\n",
       "  <tbody>\n",
       "    <tr>\n",
       "      <th>0</th>\n",
       "      <td>Wii Sports</td>\n",
       "      <td>Wii</td>\n",
       "      <td>2006.0</td>\n",
       "      <td>Sports</td>\n",
       "      <td>41.36</td>\n",
       "      <td>28.96</td>\n",
       "      <td>3.77</td>\n",
       "      <td>8.45</td>\n",
       "      <td>76.0</td>\n",
       "      <td>8</td>\n",
       "      <td>E</td>\n",
       "    </tr>\n",
       "    <tr>\n",
       "      <th>1</th>\n",
       "      <td>Super Mario Bros.</td>\n",
       "      <td>NES</td>\n",
       "      <td>1985.0</td>\n",
       "      <td>Platform</td>\n",
       "      <td>29.08</td>\n",
       "      <td>3.58</td>\n",
       "      <td>6.81</td>\n",
       "      <td>0.77</td>\n",
       "      <td>NaN</td>\n",
       "      <td>NaN</td>\n",
       "      <td>NaN</td>\n",
       "    </tr>\n",
       "    <tr>\n",
       "      <th>2</th>\n",
       "      <td>Mario Kart Wii</td>\n",
       "      <td>Wii</td>\n",
       "      <td>2008.0</td>\n",
       "      <td>Racing</td>\n",
       "      <td>15.68</td>\n",
       "      <td>12.76</td>\n",
       "      <td>3.79</td>\n",
       "      <td>3.29</td>\n",
       "      <td>82.0</td>\n",
       "      <td>8.3</td>\n",
       "      <td>E</td>\n",
       "    </tr>\n",
       "    <tr>\n",
       "      <th>3</th>\n",
       "      <td>Wii Sports Resort</td>\n",
       "      <td>Wii</td>\n",
       "      <td>2009.0</td>\n",
       "      <td>Sports</td>\n",
       "      <td>15.61</td>\n",
       "      <td>10.93</td>\n",
       "      <td>3.28</td>\n",
       "      <td>2.95</td>\n",
       "      <td>80.0</td>\n",
       "      <td>8</td>\n",
       "      <td>E</td>\n",
       "    </tr>\n",
       "    <tr>\n",
       "      <th>4</th>\n",
       "      <td>Pokemon Red/Pokemon Blue</td>\n",
       "      <td>GB</td>\n",
       "      <td>1996.0</td>\n",
       "      <td>Role-Playing</td>\n",
       "      <td>11.27</td>\n",
       "      <td>8.89</td>\n",
       "      <td>10.22</td>\n",
       "      <td>1.00</td>\n",
       "      <td>NaN</td>\n",
       "      <td>NaN</td>\n",
       "      <td>NaN</td>\n",
       "    </tr>\n",
       "    <tr>\n",
       "      <th>5</th>\n",
       "      <td>Tetris</td>\n",
       "      <td>GB</td>\n",
       "      <td>1989.0</td>\n",
       "      <td>Puzzle</td>\n",
       "      <td>23.20</td>\n",
       "      <td>2.26</td>\n",
       "      <td>4.22</td>\n",
       "      <td>0.58</td>\n",
       "      <td>NaN</td>\n",
       "      <td>NaN</td>\n",
       "      <td>NaN</td>\n",
       "    </tr>\n",
       "    <tr>\n",
       "      <th>6</th>\n",
       "      <td>New Super Mario Bros.</td>\n",
       "      <td>DS</td>\n",
       "      <td>2006.0</td>\n",
       "      <td>Platform</td>\n",
       "      <td>11.28</td>\n",
       "      <td>9.14</td>\n",
       "      <td>6.50</td>\n",
       "      <td>2.88</td>\n",
       "      <td>89.0</td>\n",
       "      <td>8.5</td>\n",
       "      <td>E</td>\n",
       "    </tr>\n",
       "    <tr>\n",
       "      <th>7</th>\n",
       "      <td>Wii Play</td>\n",
       "      <td>Wii</td>\n",
       "      <td>2006.0</td>\n",
       "      <td>Misc</td>\n",
       "      <td>13.96</td>\n",
       "      <td>9.18</td>\n",
       "      <td>2.93</td>\n",
       "      <td>2.84</td>\n",
       "      <td>58.0</td>\n",
       "      <td>6.6</td>\n",
       "      <td>E</td>\n",
       "    </tr>\n",
       "    <tr>\n",
       "      <th>8</th>\n",
       "      <td>New Super Mario Bros. Wii</td>\n",
       "      <td>Wii</td>\n",
       "      <td>2009.0</td>\n",
       "      <td>Platform</td>\n",
       "      <td>14.44</td>\n",
       "      <td>6.94</td>\n",
       "      <td>4.70</td>\n",
       "      <td>2.24</td>\n",
       "      <td>87.0</td>\n",
       "      <td>8.4</td>\n",
       "      <td>E</td>\n",
       "    </tr>\n",
       "    <tr>\n",
       "      <th>9</th>\n",
       "      <td>Duck Hunt</td>\n",
       "      <td>NES</td>\n",
       "      <td>1984.0</td>\n",
       "      <td>Shooter</td>\n",
       "      <td>26.93</td>\n",
       "      <td>0.63</td>\n",
       "      <td>0.28</td>\n",
       "      <td>0.47</td>\n",
       "      <td>NaN</td>\n",
       "      <td>NaN</td>\n",
       "      <td>NaN</td>\n",
       "    </tr>\n",
       "  </tbody>\n",
       "</table>\n",
       "</div>"
      ],
      "text/plain": [
       "                        Name Platform  Year_of_Release         Genre  \\\n",
       "0                 Wii Sports      Wii           2006.0        Sports   \n",
       "1          Super Mario Bros.      NES           1985.0      Platform   \n",
       "2             Mario Kart Wii      Wii           2008.0        Racing   \n",
       "3          Wii Sports Resort      Wii           2009.0        Sports   \n",
       "4   Pokemon Red/Pokemon Blue       GB           1996.0  Role-Playing   \n",
       "5                     Tetris       GB           1989.0        Puzzle   \n",
       "6      New Super Mario Bros.       DS           2006.0      Platform   \n",
       "7                   Wii Play      Wii           2006.0          Misc   \n",
       "8  New Super Mario Bros. Wii      Wii           2009.0      Platform   \n",
       "9                  Duck Hunt      NES           1984.0       Shooter   \n",
       "\n",
       "   NA_sales  EU_sales  JP_sales  Other_sales  Critic_Score User_Score Rating  \n",
       "0     41.36     28.96      3.77         8.45          76.0          8      E  \n",
       "1     29.08      3.58      6.81         0.77           NaN        NaN    NaN  \n",
       "2     15.68     12.76      3.79         3.29          82.0        8.3      E  \n",
       "3     15.61     10.93      3.28         2.95          80.0          8      E  \n",
       "4     11.27      8.89     10.22         1.00           NaN        NaN    NaN  \n",
       "5     23.20      2.26      4.22         0.58           NaN        NaN    NaN  \n",
       "6     11.28      9.14      6.50         2.88          89.0        8.5      E  \n",
       "7     13.96      9.18      2.93         2.84          58.0        6.6      E  \n",
       "8     14.44      6.94      4.70         2.24          87.0        8.4      E  \n",
       "9     26.93      0.63      0.28         0.47           NaN        NaN    NaN  "
      ]
     },
     "metadata": {},
     "output_type": "display_data"
    },
    {
     "data": {
      "text/html": [
       "<div>\n",
       "<style scoped>\n",
       "    .dataframe tbody tr th:only-of-type {\n",
       "        vertical-align: middle;\n",
       "    }\n",
       "\n",
       "    .dataframe tbody tr th {\n",
       "        vertical-align: top;\n",
       "    }\n",
       "\n",
       "    .dataframe thead th {\n",
       "        text-align: right;\n",
       "    }\n",
       "</style>\n",
       "<table border=\"1\" class=\"dataframe\">\n",
       "  <thead>\n",
       "    <tr style=\"text-align: right;\">\n",
       "      <th></th>\n",
       "      <th>Year_of_Release</th>\n",
       "      <th>NA_sales</th>\n",
       "      <th>EU_sales</th>\n",
       "      <th>JP_sales</th>\n",
       "      <th>Other_sales</th>\n",
       "      <th>Critic_Score</th>\n",
       "    </tr>\n",
       "  </thead>\n",
       "  <tbody>\n",
       "    <tr>\n",
       "      <th>count</th>\n",
       "      <td>16446.00</td>\n",
       "      <td>16715.00</td>\n",
       "      <td>16715.00</td>\n",
       "      <td>16715.00</td>\n",
       "      <td>16715.00</td>\n",
       "      <td>8137.00</td>\n",
       "    </tr>\n",
       "    <tr>\n",
       "      <th>mean</th>\n",
       "      <td>2006.48</td>\n",
       "      <td>0.26</td>\n",
       "      <td>0.15</td>\n",
       "      <td>0.08</td>\n",
       "      <td>0.05</td>\n",
       "      <td>68.97</td>\n",
       "    </tr>\n",
       "    <tr>\n",
       "      <th>std</th>\n",
       "      <td>5.88</td>\n",
       "      <td>0.81</td>\n",
       "      <td>0.50</td>\n",
       "      <td>0.31</td>\n",
       "      <td>0.19</td>\n",
       "      <td>13.94</td>\n",
       "    </tr>\n",
       "    <tr>\n",
       "      <th>min</th>\n",
       "      <td>1980.00</td>\n",
       "      <td>0.00</td>\n",
       "      <td>0.00</td>\n",
       "      <td>0.00</td>\n",
       "      <td>0.00</td>\n",
       "      <td>13.00</td>\n",
       "    </tr>\n",
       "    <tr>\n",
       "      <th>25%</th>\n",
       "      <td>2003.00</td>\n",
       "      <td>0.00</td>\n",
       "      <td>0.00</td>\n",
       "      <td>0.00</td>\n",
       "      <td>0.00</td>\n",
       "      <td>60.00</td>\n",
       "    </tr>\n",
       "    <tr>\n",
       "      <th>50%</th>\n",
       "      <td>2007.00</td>\n",
       "      <td>0.08</td>\n",
       "      <td>0.02</td>\n",
       "      <td>0.00</td>\n",
       "      <td>0.01</td>\n",
       "      <td>71.00</td>\n",
       "    </tr>\n",
       "    <tr>\n",
       "      <th>75%</th>\n",
       "      <td>2010.00</td>\n",
       "      <td>0.24</td>\n",
       "      <td>0.11</td>\n",
       "      <td>0.04</td>\n",
       "      <td>0.03</td>\n",
       "      <td>79.00</td>\n",
       "    </tr>\n",
       "    <tr>\n",
       "      <th>max</th>\n",
       "      <td>2016.00</td>\n",
       "      <td>41.36</td>\n",
       "      <td>28.96</td>\n",
       "      <td>10.22</td>\n",
       "      <td>10.57</td>\n",
       "      <td>98.00</td>\n",
       "    </tr>\n",
       "  </tbody>\n",
       "</table>\n",
       "</div>"
      ],
      "text/plain": [
       "       Year_of_Release  NA_sales  EU_sales  JP_sales  Other_sales  \\\n",
       "count         16446.00  16715.00  16715.00  16715.00     16715.00   \n",
       "mean           2006.48      0.26      0.15      0.08         0.05   \n",
       "std               5.88      0.81      0.50      0.31         0.19   \n",
       "min            1980.00      0.00      0.00      0.00         0.00   \n",
       "25%            2003.00      0.00      0.00      0.00         0.00   \n",
       "50%            2007.00      0.08      0.02      0.00         0.01   \n",
       "75%            2010.00      0.24      0.11      0.04         0.03   \n",
       "max            2016.00     41.36     28.96     10.22        10.57   \n",
       "\n",
       "       Critic_Score  \n",
       "count       8137.00  \n",
       "mean          68.97  \n",
       "std           13.94  \n",
       "min           13.00  \n",
       "25%           60.00  \n",
       "50%           71.00  \n",
       "75%           79.00  \n",
       "max           98.00  "
      ]
     },
     "metadata": {},
     "output_type": "display_data"
    },
    {
     "name": "stdout",
     "output_type": "stream",
     "text": [
      "<class 'pandas.core.frame.DataFrame'>\n",
      "RangeIndex: 16715 entries, 0 to 16714\n",
      "Data columns (total 11 columns):\n",
      " #   Column           Non-Null Count  Dtype  \n",
      "---  ------           --------------  -----  \n",
      " 0   Name             16713 non-null  object \n",
      " 1   Platform         16715 non-null  object \n",
      " 2   Year_of_Release  16446 non-null  float64\n",
      " 3   Genre            16713 non-null  object \n",
      " 4   NA_sales         16715 non-null  float64\n",
      " 5   EU_sales         16715 non-null  float64\n",
      " 6   JP_sales         16715 non-null  float64\n",
      " 7   Other_sales      16715 non-null  float64\n",
      " 8   Critic_Score     8137 non-null   float64\n",
      " 9   User_Score       10014 non-null  object \n",
      " 10  Rating           9949 non-null   object \n",
      "dtypes: float64(6), object(5)\n",
      "memory usage: 1.4+ MB\n"
     ]
    },
    {
     "data": {
      "text/plain": [
       "None"
      ]
     },
     "metadata": {},
     "output_type": "display_data"
    }
   ],
   "source": [
    "try:\n",
    "    games_data = pd.read_csv('dataset/games.csv')\n",
    "except:\n",
    "    games_data = pd.read_csv('/datasets/games.csv')\n",
    "    \n",
    "display(games_data.head(10))\n",
    "display(games_data.describe())\n",
    "display(games_data.info())"
   ]
  },
  {
   "cell_type": "markdown",
   "metadata": {},
   "source": [
    "### Notes"
   ]
  },
  {
   "cell_type": "markdown",
   "metadata": {},
   "source": [
    "Need to change:\n",
    "\n",
    "- column titles to miniscule for consistency\n",
    "- year_released to int\n",
    "- user_score to float\n",
    "    \n",
    "Need to consider:\n",
    "\n",
    "- The missing data from:\n",
    "    - name\n",
    "    - year_of_release\n",
    "    - genre\n",
    "    - critic_score\n",
    "    - user_score\n",
    "    - rating"
   ]
  },
  {
   "cell_type": "markdown",
   "metadata": {},
   "source": [
    "<a id='section_2'></a>"
   ]
  },
  {
   "cell_type": "markdown",
   "metadata": {},
   "source": [
    "# Section 2: Data Preprocessing\n",
    "<a href='#section_3'>[Skip to Exploratory Data Analysis]</a>"
   ]
  },
  {
   "cell_type": "code",
   "execution_count": 3,
   "metadata": {},
   "outputs": [],
   "source": [
    "# change column names\n",
    "games_data = games_data.rename(columns=str.lower)\n",
    "for title in games_data.columns:\n",
    "    assert(title.islower())"
   ]
  },
  {
   "cell_type": "code",
   "execution_count": 4,
   "metadata": {
    "scrolled": true
   },
   "outputs": [
    {
     "name": "stdout",
     "output_type": "stream",
     "text": [
      "<class 'pandas.core.frame.DataFrame'>\n",
      "RangeIndex: 16444 entries, 0 to 16443\n",
      "Data columns (total 12 columns):\n",
      " #   Column           Non-Null Count  Dtype  \n",
      "---  ------           --------------  -----  \n",
      " 0   index            16444 non-null  int64  \n",
      " 1   name             16444 non-null  object \n",
      " 2   platform         16444 non-null  object \n",
      " 3   year_of_release  16444 non-null  float64\n",
      " 4   genre            16444 non-null  object \n",
      " 5   na_sales         16444 non-null  float64\n",
      " 6   eu_sales         16444 non-null  float64\n",
      " 7   jp_sales         16444 non-null  float64\n",
      " 8   other_sales      16444 non-null  float64\n",
      " 9   critic_score     7983 non-null   float64\n",
      " 10  user_score       9839 non-null   object \n",
      " 11  rating           9768 non-null   object \n",
      "dtypes: float64(6), int64(1), object(5)\n",
      "memory usage: 1.5+ MB\n",
      "None\n"
     ]
    }
   ],
   "source": [
    "# delete missing data that forms less than 10% of dataset\n",
    "games_data = games_data.dropna(subset=[\"name\", \"year_of_release\", \"genre\"]).reset_index()\n",
    "\n",
    "print(games_data.info())"
   ]
  },
  {
   "cell_type": "code",
   "execution_count": 5,
   "metadata": {
    "scrolled": true
   },
   "outputs": [
    {
     "name": "stdout",
     "output_type": "stream",
     "text": [
      "Number of duplicate entries:  0\n"
     ]
    }
   ],
   "source": [
    "# determine number of duplicates\n",
    "print(\"Number of duplicate entries: \", games_data.duplicated().sum())"
   ]
  },
  {
   "cell_type": "code",
   "execution_count": 6,
   "metadata": {},
   "outputs": [
    {
     "name": "stdout",
     "output_type": "stream",
     "text": [
      "Have all ratings missing: 6534\n"
     ]
    }
   ],
   "source": [
    "# determine what to do with missing data that comprises more than 10% of dataset\n",
    "missing_scores = games_data.query(\"critic_score.isna() & user_score.isna() & rating.isna()\")\n",
    "print(\"Have all ratings missing:\", len(missing_scores))"
   ]
  },
  {
   "cell_type": "markdown",
   "metadata": {},
   "source": [
    "### Notes"
   ]
  },
  {
   "cell_type": "markdown",
   "metadata": {},
   "source": [
    "We note that a large portion of the data missing ratings is missing all three types of ratings: critic, user, ESRB.\n",
    "    \n",
    "- These are likely missing because the game had a low marketing budget and did not generate enough attention to get a rating\n",
    "\n",
    "Of these, we want to see how many were high sellers, but to do this we need to determine what a high seller is."
   ]
  },
  {
   "cell_type": "code",
   "execution_count": 7,
   "metadata": {},
   "outputs": [
    {
     "name": "stdout",
     "output_type": "stream",
     "text": [
      "Sales data distribution summaries:\n"
     ]
    },
    {
     "data": {
      "text/html": [
       "<div>\n",
       "<style scoped>\n",
       "    .dataframe tbody tr th:only-of-type {\n",
       "        vertical-align: middle;\n",
       "    }\n",
       "\n",
       "    .dataframe tbody tr th {\n",
       "        vertical-align: top;\n",
       "    }\n",
       "\n",
       "    .dataframe thead th {\n",
       "        text-align: right;\n",
       "    }\n",
       "</style>\n",
       "<table border=\"1\" class=\"dataframe\">\n",
       "  <thead>\n",
       "    <tr style=\"text-align: right;\">\n",
       "      <th></th>\n",
       "      <th>na_sales</th>\n",
       "      <th>eu_sales</th>\n",
       "      <th>jp_sales</th>\n",
       "      <th>other_sales</th>\n",
       "    </tr>\n",
       "  </thead>\n",
       "  <tbody>\n",
       "    <tr>\n",
       "      <th>count</th>\n",
       "      <td>16444.00</td>\n",
       "      <td>16444.00</td>\n",
       "      <td>16444.00</td>\n",
       "      <td>16444.00</td>\n",
       "    </tr>\n",
       "    <tr>\n",
       "      <th>mean</th>\n",
       "      <td>0.26</td>\n",
       "      <td>0.15</td>\n",
       "      <td>0.08</td>\n",
       "      <td>0.05</td>\n",
       "    </tr>\n",
       "    <tr>\n",
       "      <th>std</th>\n",
       "      <td>0.82</td>\n",
       "      <td>0.51</td>\n",
       "      <td>0.31</td>\n",
       "      <td>0.19</td>\n",
       "    </tr>\n",
       "    <tr>\n",
       "      <th>min</th>\n",
       "      <td>0.00</td>\n",
       "      <td>0.00</td>\n",
       "      <td>0.00</td>\n",
       "      <td>0.00</td>\n",
       "    </tr>\n",
       "    <tr>\n",
       "      <th>25%</th>\n",
       "      <td>0.00</td>\n",
       "      <td>0.00</td>\n",
       "      <td>0.00</td>\n",
       "      <td>0.00</td>\n",
       "    </tr>\n",
       "    <tr>\n",
       "      <th>50%</th>\n",
       "      <td>0.08</td>\n",
       "      <td>0.02</td>\n",
       "      <td>0.00</td>\n",
       "      <td>0.01</td>\n",
       "    </tr>\n",
       "    <tr>\n",
       "      <th>75%</th>\n",
       "      <td>0.24</td>\n",
       "      <td>0.11</td>\n",
       "      <td>0.04</td>\n",
       "      <td>0.03</td>\n",
       "    </tr>\n",
       "    <tr>\n",
       "      <th>max</th>\n",
       "      <td>41.36</td>\n",
       "      <td>28.96</td>\n",
       "      <td>10.22</td>\n",
       "      <td>10.57</td>\n",
       "    </tr>\n",
       "  </tbody>\n",
       "</table>\n",
       "</div>"
      ],
      "text/plain": [
       "       na_sales  eu_sales  jp_sales  other_sales\n",
       "count  16444.00  16444.00  16444.00     16444.00\n",
       "mean       0.26      0.15      0.08         0.05\n",
       "std        0.82      0.51      0.31         0.19\n",
       "min        0.00      0.00      0.00         0.00\n",
       "25%        0.00      0.00      0.00         0.00\n",
       "50%        0.08      0.02      0.00         0.01\n",
       "75%        0.24      0.11      0.04         0.03\n",
       "max       41.36     28.96     10.22        10.57"
      ]
     },
     "metadata": {},
     "output_type": "display_data"
    }
   ],
   "source": [
    "print(\"Sales data distribution summaries:\")\n",
    "sales_data = {\"na_sales\":games_data[\"na_sales\"].describe(), \"eu_sales\":games_data[\"eu_sales\"].describe(), \n",
    "             \"jp_sales\":games_data[\"jp_sales\"].describe(), \"other_sales\":games_data[\"other_sales\"].describe()}\n",
    "games_data_sales = pd.DataFrame(sales_data)\n",
    "display(games_data_sales)"
   ]
  },
  {
   "cell_type": "markdown",
   "metadata": {},
   "source": [
    "### Notes"
   ]
  },
  {
   "cell_type": "markdown",
   "metadata": {},
   "source": [
    "It appears that there is a rather low threshold to be considered a high seller (when considering the top 75% of sales), but that the max is always several orders of magnitude beyond that.\n",
    "\n",
    "Given that the lowest top seller from each category was at least 10 million USD, we can reasonably use 5 million USD as a threshold for determining whether or not a game was highly successful and 1 million USD as a lower bound.\n",
    "\n",
    "It is also noteworthy that the minimum value for all regions is 0 USD. Their marketing must have been terrible to pull in that kind of profit. More likely is the following scenarios:\n",
    "- The column is measured in millions of USD and accurate to two decimal places, implying that a game could have made 9,999 USD and still be considered 0 USD on this scale.\n",
    "- The game was banned/forbidden in a given region and thus, really did generate 0 USD in revenue\n",
    "\n",
    "As such, we will retain the 0 USD value."
   ]
  },
  {
   "cell_type": "code",
   "execution_count": 8,
   "metadata": {},
   "outputs": [
    {
     "name": "stdout",
     "output_type": "stream",
     "text": [
      "MILLIONS OF USD MADE FOR THOSE MISSING ALL THREE RATINGS:\n",
      "Made over 1 million USD in any market: 398 / 6534 = 0.06091\n",
      "Made over 2 million USD in any market: 127 / 6534 = 0.01944\n",
      "Made over 3 million USD in any market: 61 / 6534 = 0.00934\n",
      "Made over 4 million USD in any market: 36 / 6534 = 0.00551\n",
      "Made over 5 million USD in any market: 24 / 6534 = 0.00367\n",
      "\n",
      "MILLIONS OF USD MADE FOR THE ORIGINAL DATA SET:\n",
      "Made over 1 million USD in any market: 1145 / 16444 = 0.06963\n",
      "Made over 2 million USD in any market: 398 / 16444 = 0.02420\n",
      "Made over 3 million USD in any market: 179 / 16444 = 0.01089\n",
      "Made over 4 million USD in any market: 105 / 16444 = 0.00639\n",
      "Made over 5 million USD in any market: 70 / 16444 = 0.00426\n"
     ]
    }
   ],
   "source": [
    "print(\"MILLIONS OF USD MADE FOR THOSE MISSING ALL THREE RATINGS:\")\n",
    "threshold = 1\n",
    "for _ in range(5):\n",
    "    missing_scores_hi_sales = missing_scores.query(\"na_sales>@threshold | eu_sales>@threshold \\\n",
    "                                           | jp_sales>@threshold | other_sales>@threshold\")\n",
    "    print(f\"Made over {threshold} million USD in any market: {len(missing_scores_hi_sales)}\"+\n",
    "            f\" / {len(missing_scores)} = {len(missing_scores_hi_sales)/len(missing_scores):.5f}\")\n",
    "    threshold += 1\n",
    "    \n",
    "print(\"\\nMILLIONS OF USD MADE FOR THE ORIGINAL DATA SET:\")\n",
    "threshold = 1\n",
    "for _ in range(5):\n",
    "    hi_sales = games_data.query(\"na_sales>@threshold | eu_sales>@threshold \\\n",
    "                                           | jp_sales>@threshold | other_sales>@threshold\")\n",
    "    print(f\"Made over {threshold} million USD in any market: {len(hi_sales)}\"+\n",
    "            f\" / {len(games_data)} = {len(hi_sales)/len(games_data):.5f}\")\n",
    "    threshold += 1\n"
   ]
  },
  {
   "cell_type": "markdown",
   "metadata": {},
   "source": [
    "### Notes"
   ]
  },
  {
   "cell_type": "markdown",
   "metadata": {},
   "source": [
    "A little more than 5% of the games made over 1 million USD in any market, but that number drops to around 2% when the threshold increases to 2 million USD, and eventually dwindles to 0.4% as it reaches 5 million.\n",
    "\n",
    "This patterns nicely with the original data, meaning it is a representative sample and its removal would likely not affect the overall dataset.\n",
    "\n",
    "But it would be best if we could fill in the missing data somehow. Perhaps examining its relationship with other variables."
   ]
  },
  {
   "cell_type": "code",
   "execution_count": 9,
   "metadata": {},
   "outputs": [
    {
     "name": "stdout",
     "output_type": "stream",
     "text": [
      "Minimum value for critic_score: 13.0\n"
     ]
    }
   ],
   "source": [
    "# scale critic_score to a 10-scale to match user_score\n",
    "print(f\"Minimum value for critic_score: {games_data['critic_score'].min()}\")\n",
    "games_data[\"critic_score\"] = games_data[\"critic_score\"].apply(lambda x: x/10 if x > 10 else x) \n",
    "for x in games_data[\"critic_score\"]:\n",
    "    assert((x <= 10 and x >= 1) or np.isnan(x))"
   ]
  },
  {
   "cell_type": "code",
   "execution_count": 10,
   "metadata": {},
   "outputs": [],
   "source": [
    "# change user_score data type to numeric, force tbd -> NaN\n",
    "games_data[\"user_score\"] = pd.to_numeric(games_data[\"user_score\"], errors=\"coerce\")\n",
    "for x in games_data[\"user_score\"]:\n",
    "    assert(type(x) == float)"
   ]
  },
  {
   "cell_type": "code",
   "execution_count": 11,
   "metadata": {},
   "outputs": [
    {
     "data": {
      "text/html": [
       "<div>\n",
       "<style scoped>\n",
       "    .dataframe tbody tr th:only-of-type {\n",
       "        vertical-align: middle;\n",
       "    }\n",
       "\n",
       "    .dataframe tbody tr th {\n",
       "        vertical-align: top;\n",
       "    }\n",
       "\n",
       "    .dataframe thead th {\n",
       "        text-align: right;\n",
       "    }\n",
       "</style>\n",
       "<table border=\"1\" class=\"dataframe\">\n",
       "  <thead>\n",
       "    <tr style=\"text-align: right;\">\n",
       "      <th></th>\n",
       "      <th>critic_score</th>\n",
       "      <th>user_score</th>\n",
       "      <th>tot_rev</th>\n",
       "      <th>abs_difference</th>\n",
       "    </tr>\n",
       "  </thead>\n",
       "  <tbody>\n",
       "    <tr>\n",
       "      <th>critic_score</th>\n",
       "      <td>1.00</td>\n",
       "      <td>0.58</td>\n",
       "      <td>2.37e-01</td>\n",
       "      <td>-2.67e-01</td>\n",
       "    </tr>\n",
       "    <tr>\n",
       "      <th>user_score</th>\n",
       "      <td>0.58</td>\n",
       "      <td>1.00</td>\n",
       "      <td>8.84e-02</td>\n",
       "      <td>-2.44e-01</td>\n",
       "    </tr>\n",
       "    <tr>\n",
       "      <th>tot_rev</th>\n",
       "      <td>0.24</td>\n",
       "      <td>0.09</td>\n",
       "      <td>1.00e+00</td>\n",
       "      <td>-9.99e-03</td>\n",
       "    </tr>\n",
       "    <tr>\n",
       "      <th>abs_difference</th>\n",
       "      <td>-0.27</td>\n",
       "      <td>-0.24</td>\n",
       "      <td>-9.99e-03</td>\n",
       "      <td>1.00e+00</td>\n",
       "    </tr>\n",
       "  </tbody>\n",
       "</table>\n",
       "</div>"
      ],
      "text/plain": [
       "                critic_score  user_score   tot_rev  abs_difference\n",
       "critic_score            1.00        0.58  2.37e-01       -2.67e-01\n",
       "user_score              0.58        1.00  8.84e-02       -2.44e-01\n",
       "tot_rev                 0.24        0.09  1.00e+00       -9.99e-03\n",
       "abs_difference         -0.27       -0.24 -9.99e-03        1.00e+00"
      ]
     },
     "metadata": {},
     "output_type": "display_data"
    }
   ],
   "source": [
    "# determine how strongly correlated user & critic scores and revenue are\n",
    "scores = pd.DataFrame({\"critic_score\":games_data[\"critic_score\"], \"user_score\":games_data[\"user_score\"], \n",
    "                       \"tot_rev\":(games_data[\"na_sales\"]+games_data[\"eu_sales\"]+games_data[\"jp_sales\"]+games_data[\"other_sales\"])})\n",
    "scores.dropna(inplace=True)\n",
    "scores[\"abs_difference\"] = abs(scores[\"critic_score\"]-scores[\"user_score\"])\n",
    "display(scores.corr())"
   ]
  },
  {
   "cell_type": "markdown",
   "metadata": {},
   "source": [
    "### Notes"
   ]
  },
  {
   "cell_type": "markdown",
   "metadata": {},
   "source": [
    "We treated tbd in user_score as NaN and coerced conversion when converting to float data type.\n",
    "\n",
    "Both critic_score and user_score have a strong positive correlation, but the tot_rev is only weakly correlated with either. "
   ]
  },
  {
   "cell_type": "code",
   "execution_count": 12,
   "metadata": {},
   "outputs": [
    {
     "name": "stdout",
     "output_type": "stream",
     "text": [
      "Number of games with critic_score XOR user_score: 1658\n"
     ]
    }
   ],
   "source": [
    "print(\"Number of games with critic_score XOR user_score:\", \\\n",
    "      len(games_data.query(\"(critic_score.isna() | user_score.isna()) & ~(critic_score.isna() & user_score.isna())\")))"
   ]
  },
  {
   "cell_type": "markdown",
   "metadata": {},
   "source": [
    "### Notes"
   ]
  },
  {
   "cell_type": "markdown",
   "metadata": {},
   "source": [
    "But we see that a mere 10% of the data could be filled in this way.\n",
    "\n",
    "However, as our goal is to predict which games will succeed in the coming year, perhaps we should keep in mind that modern trends determine modern profits and ditch data older than a decade. Perhaps we can likewise ditch much of the missing data in this way."
   ]
  },
  {
   "cell_type": "code",
   "execution_count": 13,
   "metadata": {},
   "outputs": [],
   "source": [
    "# Add a column with total rev for each game in data\n",
    "games_data[\"total_revenue\"] = games_data[\"na_sales\"] + games_data[\"eu_sales\"]+ \\\n",
    "                                    games_data[\"jp_sales\"] + games_data[\"other_sales\"]"
   ]
  },
  {
   "cell_type": "code",
   "execution_count": 14,
   "metadata": {},
   "outputs": [
    {
     "name": "stdout",
     "output_type": "stream",
     "text": [
      "Total data of recent games (<10 years old): 9327\n",
      "Total data of games missing either score: 5394\n",
      "Total data of games missing XOR scores: 907\n",
      "Total expected data of recent games (clean): 4840\n"
     ]
    }
   ],
   "source": [
    "# how much data is older than a decade and missing fields\n",
    "def fill_missing_score(row):\n",
    "    if np.isnan(row[\"critic_score\"]):\n",
    "        row[\"critic_score\"] = row[\"user_score\"]\n",
    "    elif np.isnan(row[\"user_score\"]):\n",
    "        row[\"user_score\"] = row[\"critic_score\"]\n",
    "    return row\n",
    "\n",
    "recent_games_data = games_data.query(\"year_of_release > 2006\")\n",
    "\n",
    "orig_len = len(recent_games_data)\n",
    "either_missing_len = len(recent_games_data.query('(critic_score.isna() | user_score.isna())'))\n",
    "xor_missing_len =len(recent_games_data.query('(critic_score.isna() | user_score.isna()) \\\n",
    "        & ~(critic_score.isna() & user_score.isna())'))\n",
    "final_len = orig_len - either_missing_len + xor_missing_len\n",
    "\n",
    "print(f\"Total data of recent games (<10 years old): {orig_len}\")\n",
    "print(f\"Total data of games missing either score: {either_missing_len}\")\n",
    "print(f\"Total data of games missing XOR scores: {xor_missing_len}\")\n",
    "print(f\"Total expected data of recent games (clean): {final_len}\")\n",
    "\n",
    "recent_games_data = recent_games_data.dropna(how=\"all\", subset=[\"critic_score\", \"user_score\"])\n",
    "recent_games_data = recent_games_data.apply(fill_missing_score, axis=1)\n",
    "\n",
    "assert(len(recent_games_data) == final_len)\n",
    "for x, y in zip(recent_games_data[\"critic_score\"], recent_games_data[\"user_score\"]):\n",
    "    assert(np.isnan(x) == False and np.isnan(y) == False)"
   ]
  },
  {
   "cell_type": "code",
   "execution_count": 15,
   "metadata": {},
   "outputs": [],
   "source": [
    "# drop few remaining null ratings\n",
    "recent_games_data = recent_games_data.dropna().reset_index()\n",
    "recent_games_data = recent_games_data.drop([\"level_0\", \"index\"], axis=1)"
   ]
  },
  {
   "cell_type": "code",
   "execution_count": 16,
   "metadata": {},
   "outputs": [],
   "source": [
    "# change year_of_release to int\n",
    "recent_games_data[\"year_of_release\"] = recent_games_data[\"year_of_release\"].astype(\"int\")\n",
    "\n",
    "for x in recent_games_data[\"year_of_release\"]:\n",
    "    assert(type(x) == int)"
   ]
  },
  {
   "cell_type": "code",
   "execution_count": 17,
   "metadata": {},
   "outputs": [
    {
     "data": {
      "text/html": [
       "<div>\n",
       "<style scoped>\n",
       "    .dataframe tbody tr th:only-of-type {\n",
       "        vertical-align: middle;\n",
       "    }\n",
       "\n",
       "    .dataframe tbody tr th {\n",
       "        vertical-align: top;\n",
       "    }\n",
       "\n",
       "    .dataframe thead th {\n",
       "        text-align: right;\n",
       "    }\n",
       "</style>\n",
       "<table border=\"1\" class=\"dataframe\">\n",
       "  <thead>\n",
       "    <tr style=\"text-align: right;\">\n",
       "      <th></th>\n",
       "      <th>name</th>\n",
       "      <th>platform</th>\n",
       "      <th>year_of_release</th>\n",
       "      <th>genre</th>\n",
       "      <th>na_sales</th>\n",
       "      <th>eu_sales</th>\n",
       "      <th>jp_sales</th>\n",
       "      <th>other_sales</th>\n",
       "      <th>critic_score</th>\n",
       "      <th>user_score</th>\n",
       "      <th>rating</th>\n",
       "      <th>total_revenue</th>\n",
       "    </tr>\n",
       "  </thead>\n",
       "  <tbody>\n",
       "    <tr>\n",
       "      <th>0</th>\n",
       "      <td>Mario Kart Wii</td>\n",
       "      <td>Wii</td>\n",
       "      <td>2008</td>\n",
       "      <td>Racing</td>\n",
       "      <td>15.68</td>\n",
       "      <td>12.76</td>\n",
       "      <td>3.79</td>\n",
       "      <td>3.29</td>\n",
       "      <td>8.2</td>\n",
       "      <td>8.3</td>\n",
       "      <td>E</td>\n",
       "      <td>35.52</td>\n",
       "    </tr>\n",
       "    <tr>\n",
       "      <th>1</th>\n",
       "      <td>Wii Sports Resort</td>\n",
       "      <td>Wii</td>\n",
       "      <td>2009</td>\n",
       "      <td>Sports</td>\n",
       "      <td>15.61</td>\n",
       "      <td>10.93</td>\n",
       "      <td>3.28</td>\n",
       "      <td>2.95</td>\n",
       "      <td>8.0</td>\n",
       "      <td>8.0</td>\n",
       "      <td>E</td>\n",
       "      <td>32.77</td>\n",
       "    </tr>\n",
       "    <tr>\n",
       "      <th>2</th>\n",
       "      <td>New Super Mario Bros. Wii</td>\n",
       "      <td>Wii</td>\n",
       "      <td>2009</td>\n",
       "      <td>Platform</td>\n",
       "      <td>14.44</td>\n",
       "      <td>6.94</td>\n",
       "      <td>4.70</td>\n",
       "      <td>2.24</td>\n",
       "      <td>8.7</td>\n",
       "      <td>8.4</td>\n",
       "      <td>E</td>\n",
       "      <td>28.32</td>\n",
       "    </tr>\n",
       "    <tr>\n",
       "      <th>3</th>\n",
       "      <td>Wii Fit</td>\n",
       "      <td>Wii</td>\n",
       "      <td>2007</td>\n",
       "      <td>Sports</td>\n",
       "      <td>8.92</td>\n",
       "      <td>8.03</td>\n",
       "      <td>3.60</td>\n",
       "      <td>2.15</td>\n",
       "      <td>8.0</td>\n",
       "      <td>7.7</td>\n",
       "      <td>E</td>\n",
       "      <td>22.70</td>\n",
       "    </tr>\n",
       "    <tr>\n",
       "      <th>4</th>\n",
       "      <td>Kinect Adventures!</td>\n",
       "      <td>X360</td>\n",
       "      <td>2010</td>\n",
       "      <td>Misc</td>\n",
       "      <td>15.00</td>\n",
       "      <td>4.89</td>\n",
       "      <td>0.24</td>\n",
       "      <td>1.69</td>\n",
       "      <td>6.1</td>\n",
       "      <td>6.3</td>\n",
       "      <td>E</td>\n",
       "      <td>21.82</td>\n",
       "    </tr>\n",
       "  </tbody>\n",
       "</table>\n",
       "</div>"
      ],
      "text/plain": [
       "                        name platform  year_of_release     genre  na_sales  \\\n",
       "0             Mario Kart Wii      Wii             2008    Racing     15.68   \n",
       "1          Wii Sports Resort      Wii             2009    Sports     15.61   \n",
       "2  New Super Mario Bros. Wii      Wii             2009  Platform     14.44   \n",
       "3                    Wii Fit      Wii             2007    Sports      8.92   \n",
       "4         Kinect Adventures!     X360             2010      Misc     15.00   \n",
       "\n",
       "   eu_sales  jp_sales  other_sales  critic_score  user_score rating  \\\n",
       "0     12.76      3.79         3.29           8.2         8.3      E   \n",
       "1     10.93      3.28         2.95           8.0         8.0      E   \n",
       "2      6.94      4.70         2.24           8.7         8.4      E   \n",
       "3      8.03      3.60         2.15           8.0         7.7      E   \n",
       "4      4.89      0.24         1.69           6.1         6.3      E   \n",
       "\n",
       "   total_revenue  \n",
       "0          35.52  \n",
       "1          32.77  \n",
       "2          28.32  \n",
       "3          22.70  \n",
       "4          21.82  "
      ]
     },
     "metadata": {},
     "output_type": "display_data"
    },
    {
     "data": {
      "text/html": [
       "<div>\n",
       "<style scoped>\n",
       "    .dataframe tbody tr th:only-of-type {\n",
       "        vertical-align: middle;\n",
       "    }\n",
       "\n",
       "    .dataframe tbody tr th {\n",
       "        vertical-align: top;\n",
       "    }\n",
       "\n",
       "    .dataframe thead th {\n",
       "        text-align: right;\n",
       "    }\n",
       "</style>\n",
       "<table border=\"1\" class=\"dataframe\">\n",
       "  <thead>\n",
       "    <tr style=\"text-align: right;\">\n",
       "      <th></th>\n",
       "      <th>year_of_release</th>\n",
       "      <th>na_sales</th>\n",
       "      <th>eu_sales</th>\n",
       "      <th>jp_sales</th>\n",
       "      <th>other_sales</th>\n",
       "      <th>critic_score</th>\n",
       "      <th>user_score</th>\n",
       "      <th>total_revenue</th>\n",
       "    </tr>\n",
       "  </thead>\n",
       "  <tbody>\n",
       "    <tr>\n",
       "      <th>count</th>\n",
       "      <td>4756.00</td>\n",
       "      <td>4756.00</td>\n",
       "      <td>4756.00</td>\n",
       "      <td>4756.00</td>\n",
       "      <td>4756.00</td>\n",
       "      <td>4756.00</td>\n",
       "      <td>4756.0</td>\n",
       "      <td>4756.00</td>\n",
       "    </tr>\n",
       "    <tr>\n",
       "      <th>mean</th>\n",
       "      <td>2010.39</td>\n",
       "      <td>0.36</td>\n",
       "      <td>0.23</td>\n",
       "      <td>0.05</td>\n",
       "      <td>0.09</td>\n",
       "      <td>6.80</td>\n",
       "      <td>6.7</td>\n",
       "      <td>0.73</td>\n",
       "    </tr>\n",
       "    <tr>\n",
       "      <th>std</th>\n",
       "      <td>2.73</td>\n",
       "      <td>0.83</td>\n",
       "      <td>0.59</td>\n",
       "      <td>0.23</td>\n",
       "      <td>0.20</td>\n",
       "      <td>1.48</td>\n",
       "      <td>1.5</td>\n",
       "      <td>1.65</td>\n",
       "    </tr>\n",
       "    <tr>\n",
       "      <th>min</th>\n",
       "      <td>2007.00</td>\n",
       "      <td>0.00</td>\n",
       "      <td>0.00</td>\n",
       "      <td>0.00</td>\n",
       "      <td>0.00</td>\n",
       "      <td>0.00</td>\n",
       "      <td>0.0</td>\n",
       "      <td>0.01</td>\n",
       "    </tr>\n",
       "    <tr>\n",
       "      <th>25%</th>\n",
       "      <td>2008.00</td>\n",
       "      <td>0.05</td>\n",
       "      <td>0.01</td>\n",
       "      <td>0.00</td>\n",
       "      <td>0.01</td>\n",
       "      <td>5.90</td>\n",
       "      <td>5.9</td>\n",
       "      <td>0.11</td>\n",
       "    </tr>\n",
       "    <tr>\n",
       "      <th>50%</th>\n",
       "      <td>2010.00</td>\n",
       "      <td>0.14</td>\n",
       "      <td>0.06</td>\n",
       "      <td>0.00</td>\n",
       "      <td>0.03</td>\n",
       "      <td>7.00</td>\n",
       "      <td>7.0</td>\n",
       "      <td>0.28</td>\n",
       "    </tr>\n",
       "    <tr>\n",
       "      <th>75%</th>\n",
       "      <td>2012.00</td>\n",
       "      <td>0.35</td>\n",
       "      <td>0.23</td>\n",
       "      <td>0.02</td>\n",
       "      <td>0.08</td>\n",
       "      <td>7.90</td>\n",
       "      <td>7.8</td>\n",
       "      <td>0.73</td>\n",
       "    </tr>\n",
       "    <tr>\n",
       "      <th>max</th>\n",
       "      <td>2016.00</td>\n",
       "      <td>15.68</td>\n",
       "      <td>12.76</td>\n",
       "      <td>4.70</td>\n",
       "      <td>3.96</td>\n",
       "      <td>9.80</td>\n",
       "      <td>9.5</td>\n",
       "      <td>35.52</td>\n",
       "    </tr>\n",
       "  </tbody>\n",
       "</table>\n",
       "</div>"
      ],
      "text/plain": [
       "       year_of_release  na_sales  eu_sales  jp_sales  other_sales  \\\n",
       "count          4756.00   4756.00   4756.00   4756.00      4756.00   \n",
       "mean           2010.39      0.36      0.23      0.05         0.09   \n",
       "std               2.73      0.83      0.59      0.23         0.20   \n",
       "min            2007.00      0.00      0.00      0.00         0.00   \n",
       "25%            2008.00      0.05      0.01      0.00         0.01   \n",
       "50%            2010.00      0.14      0.06      0.00         0.03   \n",
       "75%            2012.00      0.35      0.23      0.02         0.08   \n",
       "max            2016.00     15.68     12.76      4.70         3.96   \n",
       "\n",
       "       critic_score  user_score  total_revenue  \n",
       "count       4756.00      4756.0        4756.00  \n",
       "mean           6.80         6.7           0.73  \n",
       "std            1.48         1.5           1.65  \n",
       "min            0.00         0.0           0.01  \n",
       "25%            5.90         5.9           0.11  \n",
       "50%            7.00         7.0           0.28  \n",
       "75%            7.90         7.8           0.73  \n",
       "max            9.80         9.5          35.52  "
      ]
     },
     "metadata": {},
     "output_type": "display_data"
    },
    {
     "name": "stdout",
     "output_type": "stream",
     "text": [
      "<class 'pandas.core.frame.DataFrame'>\n",
      "RangeIndex: 4756 entries, 0 to 4755\n",
      "Data columns (total 12 columns):\n",
      " #   Column           Non-Null Count  Dtype  \n",
      "---  ------           --------------  -----  \n",
      " 0   name             4756 non-null   object \n",
      " 1   platform         4756 non-null   object \n",
      " 2   year_of_release  4756 non-null   int32  \n",
      " 3   genre            4756 non-null   object \n",
      " 4   na_sales         4756 non-null   float64\n",
      " 5   eu_sales         4756 non-null   float64\n",
      " 6   jp_sales         4756 non-null   float64\n",
      " 7   other_sales      4756 non-null   float64\n",
      " 8   critic_score     4756 non-null   float64\n",
      " 9   user_score       4756 non-null   float64\n",
      " 10  rating           4756 non-null   object \n",
      " 11  total_revenue    4756 non-null   float64\n",
      "dtypes: float64(7), int32(1), object(4)\n",
      "memory usage: 427.4+ KB\n",
      "None\n"
     ]
    }
   ],
   "source": [
    "# print info for cleaned dataset\n",
    "display(recent_games_data.head())\n",
    "display(recent_games_data.describe())\n",
    "print(recent_games_data.info())"
   ]
  },
  {
   "cell_type": "markdown",
   "metadata": {},
   "source": [
    "### Conclusion"
   ]
  },
  {
   "cell_type": "markdown",
   "metadata": {},
   "source": [
    "We changed the column titles to all lowercase for consistency.\n",
    "\n",
    "We first deleted 271 entries involving missing data from name, year_of_release, and genre categories, which accounted for a mere 1.62% of the data (their presence will not be missed).\n",
    "\n",
    "We searched for duplicate data, and thankfully, came up empty handed.\n",
    "\n",
    "We also changed the critic_score to a 10-scale to be comparable to the user_score and changed the user_score data type to float.\n",
    "\n",
    "We filtered out data too antiquated to be relevant to the current task (of determining the champion of tomorrow, not the champion of yesteryear). And filled in the missing score when possible with the corresponding user/critic score. This approach may have caused problems if there were a weaker correlation between the two.\n",
    "\n",
    "We then added a column with the total revenue generated by each of the remaining games.\n",
    "\n",
    "Finally, we changed the year_of_release data type to int.\n",
    "\n",
    "Now it's time to see which categories our cashcows belong to."
   ]
  },
  {
   "cell_type": "markdown",
   "metadata": {},
   "source": [
    "<a id='section_3'></a>"
   ]
  },
  {
   "cell_type": "markdown",
   "metadata": {},
   "source": [
    "## Section 3: Exploratory Data Analysis\n",
    "<a href='#section_4'>[Skip to Regional Profiles]</a>"
   ]
  },
  {
   "cell_type": "code",
   "execution_count": 18,
   "metadata": {},
   "outputs": [
    {
     "data": {
      "text/plain": [
       "2008    775\n",
       "2007    730\n",
       "2009    704\n",
       "2010    533\n",
       "2011    521\n",
       "2012    331\n",
       "2014    329\n",
       "2013    299\n",
       "2015    283\n",
       "2016    251\n",
       "Name: year_of_release, dtype: int64"
      ]
     },
     "execution_count": 18,
     "metadata": {},
     "output_type": "execute_result"
    }
   ],
   "source": [
    "# Look at how many games were released in different years. Is the data for every period significant?\n",
    "recent_games_data[\"year_of_release\"].value_counts()"
   ]
  },
  {
   "cell_type": "markdown",
   "metadata": {},
   "source": [
    "### Notes"
   ]
  },
  {
   "cell_type": "markdown",
   "metadata": {},
   "source": [
    "As we already restricted the data to the last ten years, we have already pruned the irrelevant data.\n",
    "\n",
    "However, it is interesting to note that the number of games released between 2008 and 2016 decreased by a factor of 3."
   ]
  },
  {
   "cell_type": "code",
   "execution_count": 19,
   "metadata": {},
   "outputs": [
    {
     "data": {
      "image/png": "[encoded data removed]",
      "text/plain": [
       "<Figure size 432x288 with 1 Axes>"
      ]
     },
     "metadata": {
      "needs_background": "light"
     },
     "output_type": "display_data"
    },
    {
     "data": {
      "image/png": "[encoded data removed]",
      "text/plain": [
       "<Figure size 432x288 with 1 Axes>"
      ]
     },
     "metadata": {
      "needs_background": "light"
     },
     "output_type": "display_data"
    },
    {
     "data": {
      "image/png": "[encoded data removed]",
      "text/plain": [
       "<Figure size 432x288 with 1 Axes>"
      ]
     },
     "metadata": {
      "needs_background": "light"
     },
     "output_type": "display_data"
    }
   ],
   "source": [
    "# Look at how sales varied from platform to platform.\n",
    "recent_games_data = recent_games_data.query(\"year_of_release >= 2014\")\n",
    "\n",
    "sales = pd.DataFrame(pd.pivot_table(recent_games_data, values=[\"total_revenue\"],\\\n",
    "                                    columns=[\"year_of_release\", \"platform\"], \\\n",
    "                                    aggfunc=\"sum\").T.sort_values(by=\"total_revenue\"))\n",
    "\n",
    "for year in range(2014,2017):\n",
    "    sub_table = sales.query(\"year_of_release==@year\")\n",
    "    sub_table.plot(kind=\"bar\", rot=0, legend=False)\n",
    "    plt.title(year)\n",
    "    plt.ylabel(\"millions of USD\")\n",
    "    plt.xlabel(\"platforms\")\n",
    "    plt.xticks(ticks=np.arange(len(sub_table.index.get_level_values(1))),labels=(sub_table.index.get_level_values(1)))\n",
    "\n",
    "plt.show()\n"
   ]
  },
  {
   "cell_type": "markdown",
   "metadata": {},
   "source": [
    "### Notes"
   ]
  },
  {
   "cell_type": "markdown",
   "metadata": {},
   "source": [
    "Reigning Champions:\n",
    "- 2014-2016\n",
    "    - 1st - PS4\n",
    "    - 2nd - XOne\n",
    "    - 3rd - PS3->WiiU-PC\n",
    "    \n",
    "\"Which platforms are leading in sales?\"\n",
    "- PS4 and XOne are the current leaders\n",
    "\n",
    "\"Which ones are growing or shrinking?\"\n",
    "- Both PS4 and XOne are younger (3 years old) and are still likely to grow\n",
    "- PS3 and X360 are very much on their last legs; as are WiiU and 3DS\n",
    "\n",
    "\"Select several potentially profitable platforms.\"\n",
    "- I hear that Nintendo will release a new platform called the Switch in March, 2017; that's one to look out for.\n",
    "- I also imagine PC gaming will experience a huge uptick.\n",
    "- However, given the data we have in front of us, PS4 and XOne look like the safest bets."
   ]
  },
  {
   "cell_type": "code",
   "execution_count": 20,
   "metadata": {},
   "outputs": [
    {
     "data": {
      "text/html": [
       "<table style=\"display:inline\" border=\"1\" class=\"dataframe\">\n",
       "  <thead>\n",
       "    <tr style=\"text-align: right;\">\n",
       "      <th></th>\n",
       "      <th></th>\n",
       "      <th>Nintendo</th>\n",
       "    </tr>\n",
       "    <tr>\n",
       "      <th>year_of_release</th>\n",
       "      <th>platform</th>\n",
       "      <th></th>\n",
       "    </tr>\n",
       "  </thead>\n",
       "  <tbody>\n",
       "    <tr>\n",
       "      <th rowspan=\"3\" valign=\"top\">2014</th>\n",
       "      <th>3DS</th>\n",
       "      <td>26</td>\n",
       "    </tr>\n",
       "    <tr>\n",
       "      <th>Wii</th>\n",
       "      <td>2</td>\n",
       "    </tr>\n",
       "    <tr>\n",
       "      <th>WiiU</th>\n",
       "      <td>19</td>\n",
       "    </tr>\n",
       "    <tr>\n",
       "      <th rowspan=\"2\" valign=\"top\">2015</th>\n",
       "      <th>3DS</th>\n",
       "      <td>21</td>\n",
       "    </tr>\n",
       "    <tr>\n",
       "      <th>WiiU</th>\n",
       "      <td>20</td>\n",
       "    </tr>\n",
       "    <tr>\n",
       "      <th rowspan=\"2\" valign=\"top\">2016</th>\n",
       "      <th>3DS</th>\n",
       "      <td>12</td>\n",
       "    </tr>\n",
       "    <tr>\n",
       "      <th>WiiU</th>\n",
       "      <td>10</td>\n",
       "    </tr>\n",
       "  </tbody>\n",
       "</table style=\"display:inline\"><table style=\"display:inline\" border=\"1\" class=\"dataframe\">\n",
       "  <thead>\n",
       "    <tr style=\"text-align: right;\">\n",
       "      <th></th>\n",
       "      <th></th>\n",
       "      <th>Sony</th>\n",
       "    </tr>\n",
       "    <tr>\n",
       "      <th>year_of_release</th>\n",
       "      <th>platform</th>\n",
       "      <th></th>\n",
       "    </tr>\n",
       "  </thead>\n",
       "  <tbody>\n",
       "    <tr>\n",
       "      <th rowspan=\"3\" valign=\"top\">2014</th>\n",
       "      <th>PS3</th>\n",
       "      <td>61</td>\n",
       "    </tr>\n",
       "    <tr>\n",
       "      <th>PS4</th>\n",
       "      <td>51</td>\n",
       "    </tr>\n",
       "    <tr>\n",
       "      <th>PSV</th>\n",
       "      <td>37</td>\n",
       "    </tr>\n",
       "    <tr>\n",
       "      <th rowspan=\"3\" valign=\"top\">2015</th>\n",
       "      <th>PS3</th>\n",
       "      <td>24</td>\n",
       "    </tr>\n",
       "    <tr>\n",
       "      <th>PS4</th>\n",
       "      <td>84</td>\n",
       "    </tr>\n",
       "    <tr>\n",
       "      <th>PSV</th>\n",
       "      <td>24</td>\n",
       "    </tr>\n",
       "    <tr>\n",
       "      <th rowspan=\"3\" valign=\"top\">2016</th>\n",
       "      <th>PS3</th>\n",
       "      <td>9</td>\n",
       "    </tr>\n",
       "    <tr>\n",
       "      <th>PS4</th>\n",
       "      <td>98</td>\n",
       "    </tr>\n",
       "    <tr>\n",
       "      <th>PSV</th>\n",
       "      <td>13</td>\n",
       "    </tr>\n",
       "  </tbody>\n",
       "</table style=\"display:inline\"><table style=\"display:inline\" border=\"1\" class=\"dataframe\">\n",
       "  <thead>\n",
       "    <tr style=\"text-align: right;\">\n",
       "      <th></th>\n",
       "      <th></th>\n",
       "      <th>Microsoft</th>\n",
       "    </tr>\n",
       "    <tr>\n",
       "      <th>year_of_release</th>\n",
       "      <th>platform</th>\n",
       "      <th></th>\n",
       "    </tr>\n",
       "  </thead>\n",
       "  <tbody>\n",
       "    <tr>\n",
       "      <th rowspan=\"2\" valign=\"top\">2014</th>\n",
       "      <th>X360</th>\n",
       "      <td>52</td>\n",
       "    </tr>\n",
       "    <tr>\n",
       "      <th>XOne</th>\n",
       "      <td>44</td>\n",
       "    </tr>\n",
       "    <tr>\n",
       "      <th rowspan=\"2\" valign=\"top\">2015</th>\n",
       "      <th>X360</th>\n",
       "      <td>22</td>\n",
       "    </tr>\n",
       "    <tr>\n",
       "      <th>XOne</th>\n",
       "      <td>52</td>\n",
       "    </tr>\n",
       "    <tr>\n",
       "      <th rowspan=\"2\" valign=\"top\">2016</th>\n",
       "      <th>X360</th>\n",
       "      <td>7</td>\n",
       "    </tr>\n",
       "    <tr>\n",
       "      <th>XOne</th>\n",
       "      <td>65</td>\n",
       "    </tr>\n",
       "  </tbody>\n",
       "</table style=\"display:inline\"><table style=\"display:inline\" border=\"1\" class=\"dataframe\">\n",
       "  <thead>\n",
       "    <tr style=\"text-align: right;\">\n",
       "      <th></th>\n",
       "      <th></th>\n",
       "      <th>PC</th>\n",
       "    </tr>\n",
       "    <tr>\n",
       "      <th>year_of_release</th>\n",
       "      <th>platform</th>\n",
       "      <th></th>\n",
       "    </tr>\n",
       "  </thead>\n",
       "  <tbody>\n",
       "    <tr>\n",
       "      <th>2014</th>\n",
       "      <th>PC</th>\n",
       "      <td>37</td>\n",
       "    </tr>\n",
       "    <tr>\n",
       "      <th>2015</th>\n",
       "      <th>PC</th>\n",
       "      <td>36</td>\n",
       "    </tr>\n",
       "    <tr>\n",
       "      <th>2016</th>\n",
       "      <th>PC</th>\n",
       "      <td>37</td>\n",
       "    </tr>\n",
       "  </tbody>\n",
       "</table style=\"display:inline\">"
      ]
     },
     "metadata": {},
     "output_type": "display_data"
    }
   ],
   "source": [
    "# Choose the platforms with the greatest total number of games\n",
    "#NINTENDO\n",
    "nintendo_num_games = recent_games_data.query(\"platform == 'Wii' | platform == 'WiiU' |\"+\n",
    "                                         \" platform == 'DS' | platform == '3DS' |\"+\n",
    "                                         \" platform == 'GC' | platform == 'GBA'\")\n",
    "nintendo_num_games = nintendo_num_games.groupby([\"year_of_release\", \"platform\"]).size().reset_index() \\\n",
    "            .groupby([\"year_of_release\", \"platform\"])[[0]].max()\n",
    "nintendo_num_games = nintendo_num_games.rename(columns={0:\"Nintendo\"})\n",
    "\n",
    "#SONY\n",
    "sony_num_games = recent_games_data.query(\"platform == 'PSV' | platform == 'PS2' |\"+\n",
    "                                     \" platform == 'PS3' | platform == 'PS4' |\"+\n",
    "                                     \" platform == 'PSP'\")\n",
    "sony_num_games = sony_num_games.groupby([\"year_of_release\", \"platform\"]).size().reset_index() \\\n",
    "            .groupby([\"year_of_release\", \"platform\"])[[0]].max()\n",
    "sony_num_games = sony_num_games.rename(columns={0:\"Sony\"})\n",
    "\n",
    "#MICROSOFT\n",
    "microsoft_num_games = recent_games_data.query(\"platform == 'X360' | platform == 'XOne' |\"+\n",
    "                                         \" platform == 'XB'\")\n",
    "microsoft_num_games = microsoft_num_games.groupby([\"year_of_release\", \"platform\"]).size().reset_index() \\\n",
    "            .groupby([\"year_of_release\", \"platform\"])[[0]].max()\n",
    "microsoft_num_games = microsoft_num_games.rename(columns={0:\"Microsoft\"})\n",
    "\n",
    "#PC\n",
    "pc_num_games = recent_games_data.query(\"platform == 'PC'\")\n",
    "pc_num_games = pc_num_games.groupby([\"year_of_release\", \"platform\"]).size().reset_index() \\\n",
    "            .groupby([\"year_of_release\", \"platform\"])[[0]].max()\n",
    "pc_num_games = pc_num_games.rename(columns={0:\"PC\"})\n",
    "\n",
    "display_side_by_side(nintendo_num_games, sony_num_games, microsoft_num_games, pc_num_games)"
   ]
  },
  {
   "cell_type": "markdown",
   "metadata": {},
   "source": [
    "### Notes"
   ]
  },
  {
   "cell_type": "markdown",
   "metadata": {},
   "source": [
    "The passing of the torch takes a few years when a new console comes out, but when it does, it always eventually outperforms its predecessor.\n",
    "\n",
    "- For example, the Wii was replaced by the WiiU in terms of games immediately. But PS4 took 2 years to outshine PS3 in terms of games; same with X360 and XOne.\n",
    "\n",
    "The lifespan of a modern console is rather lengthy (which makes sense, as designing and building new hardware is costly for the companies), but their prime (production of over 50 games a year) is significantly shorter.\n",
    "\n",
    "- Lifespan can stretch into the decades, but prime is typically in the range of 1-5 years\n",
    "    - 3DS only had one peak year\n",
    "    - Wii had four peak years\n",
    "- Notable long-lasting platforms include:\n",
    "    - PS3, which came out in 2006 and had more than 50 games per annum even as late as 2014\n",
    "    - X360, which came out in 2005 and had more than 50 games per annum even as late as 2014\n",
    "    \n",
    "A Word on Nintendo:\n",
    "\n",
    "- Nintendo's hardware market has taken a significant blow and is struggling to survive. It needs a new platform if it wishes to remain competitive"
   ]
  },
  {
   "cell_type": "code",
   "execution_count": 21,
   "metadata": {},
   "outputs": [
    {
     "name": "stdout",
     "output_type": "stream",
     "text": [
      "ALL HISTORICAL DATA\n"
     ]
    },
    {
     "data": {
      "image/png": "[encoded data removed]",
      "text/plain": [
       "<Figure size 1440x720 with 1 Axes>"
      ]
     },
     "metadata": {
      "needs_background": "light"
     },
     "output_type": "display_data"
    },
    {
     "data": {
      "image/png": "[encoded data removed]",
      "text/plain": [
       "<Figure size 1440x720 with 1 Axes>"
      ]
     },
     "metadata": {
      "needs_background": "light"
     },
     "output_type": "display_data"
    }
   ],
   "source": [
    "# Build a box plot for the global sales of all games, broken down by platform.\n",
    "def normalize(dataset):\n",
    "    platform_num_games = {}\n",
    "    for index, row in dataset.iterrows():\n",
    "        try:\n",
    "            platform_num_games[row[\"platform\"]] += 1\n",
    "        except:\n",
    "            platform_num_games[row[\"platform\"]] = 1\n",
    "    \n",
    "    normalized_revenue = dataset.copy(deep=True)\n",
    "    for index, row in normalized_revenue.iterrows():\n",
    "        normalized_revenue.loc[index,\"total_revenue\"] /= platform_num_games[row[\"platform\"]]\n",
    "        \n",
    "    return normalized_revenue\n",
    "\n",
    "print(\"ALL HISTORICAL DATA\")\n",
    "# Historical\n",
    "games_data.query(\"total_revenue < 5\").boxplot(column=\"total_revenue\", by=\"platform\", figsize=(20,10))\n",
    "plt.title(\"Non-Normalized All Data\")\n",
    "plt.ylabel(\"USD (Millions)\")\n",
    "plt.show()\n",
    "\n",
    "normalized_revenue_all = normalize(games_data)\n",
    "normalized_revenue_all.query(\"total_revenue <= 0.1\").boxplot(column=\"total_revenue\", by=\"platform\", figsize=(20,10))\n",
    "plt.title(\"Normalized All Data\")\n",
    "plt.ylabel(\"USD (Millions)\")\n",
    "plt.show()"
   ]
  },
  {
   "cell_type": "markdown",
   "metadata": {},
   "source": [
    "### Notes"
   ]
  },
  {
   "cell_type": "markdown",
   "metadata": {},
   "source": [
    "NOTE: We removed outliers (total_revenue >= 5 million USD; our previous threshold for runaway financial success), but this will not greatly affect the median; and for the normalized data, we removed outliers (far fewer in number) starting at a threshold of 0.1 million USD\n",
    "\n",
    "\"Are the differences in sales significant?\"\n",
    "- There are significant differences:\n",
    "    - When we normalize the revenue, we see that older consoles actually performed better than modern consoles\n",
    "\n",
    "\"What about average sales on various platforms?\"\n",
    "- The median for most platforms tends to hover rather low (in the sub-million range), but GB and NES stand above the rest (too bad they're long-dead platforms)"
   ]
  },
  {
   "cell_type": "code",
   "execution_count": 22,
   "metadata": {},
   "outputs": [
    {
     "name": "stdout",
     "output_type": "stream",
     "text": [
      "RECENT DATA ONLY\n"
     ]
    },
    {
     "data": {
      "image/png": "[encoded data removed]",
      "text/plain": [
       "<Figure size 1440x720 with 1 Axes>"
      ]
     },
     "metadata": {
      "needs_background": "light"
     },
     "output_type": "display_data"
    },
    {
     "data": {
      "image/png": "[encoded data removed]",
      "text/plain": [
       "<Figure size 1440x720 with 1 Axes>"
      ]
     },
     "metadata": {
      "needs_background": "light"
     },
     "output_type": "display_data"
    }
   ],
   "source": [
    "# Delete platforms with < 5 games as it throws of normalization\n",
    "games_to_keep = [platform\n",
    "                 for platform, count \\\n",
    "                 in zip(recent_games_data[\"platform\"].value_counts().index, recent_games_data[\"platform\"].value_counts())\n",
    "                 if count > 5]\n",
    "\n",
    "tmp_recent = recent_games_data[recent_games_data[\"platform\"].isin(games_to_keep)]\n",
    "\n",
    "print(\"RECENT DATA ONLY\")\n",
    "tmp_recent.query(\"total_revenue <= 5\").boxplot(column=\"total_revenue\", by=\"platform\", figsize=(20,10))\n",
    "plt.title(\"Non-Normalized Recent Data\")\n",
    "plt.ylabel(\"USD (Millions)\")\n",
    "plt.show()\n",
    "\n",
    "normalized_revenue_recent = normalize(tmp_recent)\n",
    "normalized_revenue_recent.boxplot(column=\"total_revenue\", by=\"platform\", figsize=(20,10))\n",
    "plt.title(\"Normalized Recent Data\")\n",
    "plt.ylabel(\"USD (Millions)\")\n",
    "plt.show()"
   ]
  },
  {
   "cell_type": "markdown",
   "metadata": {},
   "source": [
    "### Notes"
   ]
  },
  {
   "cell_type": "markdown",
   "metadata": {},
   "source": [
    "NOTE: We deleted the only platform with less than 5 games (the Wii) as it really threw off the scaling; we can do this because 2 games are not enough to draw any useful conclusions from and in this case, they really distract as there were 2 games produced for the Wii in 2014, but 0 games in both 2015 & 2016, despite the great popularity of the the two games published\n",
    "\n",
    "\"Are the differences in sales significant?\"\n",
    "- There are significant differences:\n",
    "    - When we normalize the revenue, we see that leaders PS4 and XOne underperform compared to WiiU (guess Nintendo games are a safer bet in aggregate, possibly because of their broader market appeal)\n",
    "\n",
    "\"What about average sales on various platforms?\"\n",
    "- The median for all platforms tends to hover rather low (in the sub-million range)"
   ]
  },
  {
   "cell_type": "code",
   "execution_count": 23,
   "metadata": {},
   "outputs": [],
   "source": [
    "# Take a look at how user and professional reviews affect sales. \n",
    "# Build a scatter plot and calculate the correlation between reviews and sales. \n",
    "def platform_data(platform):\n",
    "    data = [row \n",
    "            for index, row in recent_games_data.iterrows() \n",
    "            if row[\"platform\"] == platform]\n",
    "\n",
    "    data = pd.DataFrame(data)\n",
    "\n",
    "    for index, row in data.iterrows():\n",
    "        assert(row[\"platform\"] == platform)\n",
    "\n",
    "    return data"
   ]
  },
  {
   "cell_type": "code",
   "execution_count": 24,
   "metadata": {},
   "outputs": [
    {
     "data": {
      "text/plain": [
       "Text(0, 0.5, 'total_revenue')"
      ]
     },
     "execution_count": 24,
     "metadata": {},
     "output_type": "execute_result"
    },
    {
     "data": {
      "image/png": "[encoded data removed]",
      "text/plain": [
       "<Figure size 1440x360 with 2 Axes>"
      ]
     },
     "metadata": {
      "needs_background": "light"
     },
     "output_type": "display_data"
    }
   ],
   "source": [
    "# WiiU\n",
    "WiiU_data = platform_data(\"WiiU\")\n",
    "\n",
    "fig, axes = plt.subplots(nrows=1, ncols=2, figsize=(20, 5))\n",
    "axes[0].scatter(WiiU_data[\"critic_score\"], WiiU_data[\"total_revenue\"])\n",
    "axes[0].title.set_text(\"WiiU\")\n",
    "axes[0].set_xlabel(\"critic_score\")\n",
    "axes[0].set_ylabel(\"total_revenue\")\n",
    "axes[1].scatter(WiiU_data[\"user_score\"], WiiU_data[\"total_revenue\"])\n",
    "axes[1].title.set_text(\"WiiU\")\n",
    "axes[1].set_xlabel(\"user_score\")\n",
    "axes[1].set_ylabel(\"total_revenue\")"
   ]
  },
  {
   "cell_type": "code",
   "execution_count": 25,
   "metadata": {},
   "outputs": [
    {
     "data": {
      "text/plain": [
       "Text(0, 0.5, 'total_revenue')"
      ]
     },
     "execution_count": 25,
     "metadata": {},
     "output_type": "execute_result"
    },
    {
     "data": {
      "image/png": "[encoded data removed]",
      "text/plain": [
       "<Figure size 1440x360 with 2 Axes>"
      ]
     },
     "metadata": {
      "needs_background": "light"
     },
     "output_type": "display_data"
    }
   ],
   "source": [
    "# PS4\n",
    "PS4_data = platform_data(\"PS4\")\n",
    "\n",
    "fig, axes = plt.subplots(nrows=1, ncols=2, figsize=(20, 5))\n",
    "axes[0].scatter(PS4_data[\"critic_score\"], PS4_data[\"total_revenue\"])\n",
    "axes[0].title.set_text(\"PS4\")\n",
    "axes[0].set_xlabel(\"critic_score\")\n",
    "axes[0].set_ylabel(\"total_revenue\")\n",
    "axes[1].scatter(PS4_data[\"user_score\"], PS4_data[\"total_revenue\"])\n",
    "axes[1].title.set_text(\"PS4\")\n",
    "axes[1].set_xlabel(\"user_score\")\n",
    "axes[1].set_ylabel(\"total_revenue\")"
   ]
  },
  {
   "cell_type": "code",
   "execution_count": 26,
   "metadata": {},
   "outputs": [
    {
     "data": {
      "text/plain": [
       "Text(0, 0.5, 'total_revenue')"
      ]
     },
     "execution_count": 26,
     "metadata": {},
     "output_type": "execute_result"
    },
    {
     "data": {
      "image/png": "[encoded data removed]",
      "text/plain": [
       "<Figure size 1440x360 with 2 Axes>"
      ]
     },
     "metadata": {
      "needs_background": "light"
     },
     "output_type": "display_data"
    }
   ],
   "source": [
    "# XOne\n",
    "XOne_data = platform_data(\"XOne\")\n",
    "\n",
    "fig, axes = plt.subplots(nrows=1, ncols=2, figsize=(20, 5))\n",
    "axes[0].scatter(XOne_data[\"critic_score\"], XOne_data[\"total_revenue\"])\n",
    "axes[0].title.set_text(\"XOne\")\n",
    "axes[0].set_xlabel(\"critic_score\")\n",
    "axes[0].set_ylabel(\"total_revenue\")\n",
    "axes[1].scatter(XOne_data[\"user_score\"], XOne_data[\"total_revenue\"])\n",
    "axes[1].title.set_text(\"XOne\")\n",
    "axes[1].set_xlabel(\"user_score\")\n",
    "axes[1].set_ylabel(\"total_revenue\")"
   ]
  },
  {
   "cell_type": "markdown",
   "metadata": {},
   "source": [
    "### Notes"
   ]
  },
  {
   "cell_type": "markdown",
   "metadata": {},
   "source": [
    "When comparing platforms, it is interesting to note how low critic_score values (< 6) prophesy a profit death sentence for WiiU; yet, for PS4 and XOne, low user_score values can still mean financial success.\n",
    "\n",
    "It is also important to note that high scores (both user and critic) do not necessarily spell profitability."
   ]
  },
  {
   "cell_type": "code",
   "execution_count": 27,
   "metadata": {},
   "outputs": [],
   "source": [
    "# Keeping your conclusions in mind, compare the sales of the same games on other platforms.\n",
    "multi_platform_titles = [name\n",
    "                         for name, value in zip(recent_games_data[\"name\"].value_counts().index, recent_games_data[\"name\"].value_counts())\n",
    "                         if value > 1]\n",
    "\n",
    "multi_platform_data = [[row[\"name\"], row[\"platform\"], row[\"total_revenue\"]]\n",
    "                       for index, row in recent_games_data.iterrows()\n",
    "                       if row[\"name\"] in multi_platform_titles]\n",
    "\n",
    "multi_platform_data = pd.DataFrame(multi_platform_data, columns=[\"name\", \"platform\", \"total_revenue\"])"
   ]
  },
  {
   "cell_type": "code",
   "execution_count": 28,
   "metadata": {},
   "outputs": [
    {
     "data": {
      "text/html": [
       "<div>\n",
       "<style scoped>\n",
       "    .dataframe tbody tr th:only-of-type {\n",
       "        vertical-align: middle;\n",
       "    }\n",
       "\n",
       "    .dataframe tbody tr th {\n",
       "        vertical-align: top;\n",
       "    }\n",
       "\n",
       "    .dataframe thead th {\n",
       "        text-align: right;\n",
       "    }\n",
       "</style>\n",
       "<table border=\"1\" class=\"dataframe\">\n",
       "  <thead>\n",
       "    <tr style=\"text-align: right;\">\n",
       "      <th></th>\n",
       "      <th>non_normalized</th>\n",
       "      <th>normalized</th>\n",
       "    </tr>\n",
       "  </thead>\n",
       "  <tbody>\n",
       "    <tr>\n",
       "      <th>PS4</th>\n",
       "      <td>148.0</td>\n",
       "      <td>0.64</td>\n",
       "    </tr>\n",
       "    <tr>\n",
       "      <th>Wii</th>\n",
       "      <td>1.0</td>\n",
       "      <td>0.50</td>\n",
       "    </tr>\n",
       "    <tr>\n",
       "      <th>PS3</th>\n",
       "      <td>23.0</td>\n",
       "      <td>0.24</td>\n",
       "    </tr>\n",
       "    <tr>\n",
       "      <th>PSV</th>\n",
       "      <td>15.0</td>\n",
       "      <td>0.20</td>\n",
       "    </tr>\n",
       "    <tr>\n",
       "      <th>3DS</th>\n",
       "      <td>9.0</td>\n",
       "      <td>0.15</td>\n",
       "    </tr>\n",
       "    <tr>\n",
       "      <th>WiiU</th>\n",
       "      <td>5.0</td>\n",
       "      <td>0.10</td>\n",
       "    </tr>\n",
       "    <tr>\n",
       "      <th>X360</th>\n",
       "      <td>7.0</td>\n",
       "      <td>0.09</td>\n",
       "    </tr>\n",
       "    <tr>\n",
       "      <th>XOne</th>\n",
       "      <td>9.0</td>\n",
       "      <td>0.06</td>\n",
       "    </tr>\n",
       "    <tr>\n",
       "      <th>PC</th>\n",
       "      <td>5.0</td>\n",
       "      <td>0.05</td>\n",
       "    </tr>\n",
       "  </tbody>\n",
       "</table>\n",
       "</div>"
      ],
      "text/plain": [
       "      non_normalized  normalized\n",
       "PS4            148.0        0.64\n",
       "Wii              1.0        0.50\n",
       "PS3             23.0        0.24\n",
       "PSV             15.0        0.20\n",
       "3DS              9.0        0.15\n",
       "WiiU             5.0        0.10\n",
       "X360             7.0        0.09\n",
       "XOne             9.0        0.06\n",
       "PC               5.0        0.05"
      ]
     },
     "metadata": {},
     "output_type": "display_data"
    }
   ],
   "source": [
    "# profitability by platform for multiplatform games\n",
    "multi_platform_dict = {}\n",
    "for name in multi_platform_titles:\n",
    "    multi_platform_dict[name] = [\"platform\",0]\n",
    "\n",
    "for index, row in multi_platform_data.iterrows():\n",
    "    if row[\"total_revenue\"] > multi_platform_dict[row[\"name\"]][1]:\n",
    "        multi_platform_dict[row[\"name\"]] = [row[\"platform\"], row[\"total_revenue\"]]\n",
    "\n",
    "for name in multi_platform_dict.keys():\n",
    "    multi_platform_dict[name] =  multi_platform_dict[name][0]\n",
    "\n",
    "platform_profitability = pd.DataFrame(multi_platform_dict, index=[\"platform\"]).T\n",
    "\n",
    "normalized_data_multi = {}\n",
    "for platform, value in zip(platform_profitability[\"platform\"].value_counts().index, \\\n",
    "                           platform_profitability[\"platform\"].value_counts()):\n",
    "    normalized_data_multi[platform] = value\n",
    "    \n",
    "normalized_data_all = {}\n",
    "for platform, value in zip(recent_games_data[\"platform\"].value_counts().index, \\\n",
    "                           recent_games_data[\"platform\"].value_counts()):\n",
    "    normalized_data_all[platform] = value\n",
    "\n",
    "for platform in normalized_data_multi.keys():\n",
    "    normalized_data_multi[platform] = [normalized_data_multi[platform],\\\n",
    "                                       normalized_data_multi[platform]/normalized_data_all[platform]]\n",
    "\n",
    "normalized_data_multi = pd.DataFrame(normalized_data_multi, index=[\"non_normalized\", \"normalized\"]).T\n",
    "display(normalized_data_multi.sort_values(by=\"normalized\", ascending=False))"
   ]
  },
  {
   "cell_type": "markdown",
   "metadata": {},
   "source": [
    "### Notes"
   ]
  },
  {
   "cell_type": "markdown",
   "metadata": {},
   "source": [
    "he PS4 has both the highest absolute profitability and the highest normalized profitability."
   ]
  },
  {
   "cell_type": "code",
   "execution_count": 29,
   "metadata": {},
   "outputs": [],
   "source": [
    "# Take a look at the general distribution of games by genre.\n",
    "genre_categories = [genre \n",
    "                    for genre, value in zip(recent_games_data[\"genre\"].value_counts().index, recent_games_data[\"genre\"].value_counts())\n",
    "                    if value > 1]\n",
    "\n",
    "genre_data = [[row[\"genre\"], row[\"total_revenue\"]]\n",
    "              for index, row in recent_games_data.iterrows()\n",
    "              if row[\"genre\"] in genre_categories]\n",
    "\n",
    "genre_data = pd.DataFrame(genre_data, columns=[\"genre\", \"total_revenue\"])"
   ]
  },
  {
   "cell_type": "code",
   "execution_count": 30,
   "metadata": {},
   "outputs": [
    {
     "data": {
      "text/html": [
       "<div>\n",
       "<style scoped>\n",
       "    .dataframe tbody tr th:only-of-type {\n",
       "        vertical-align: middle;\n",
       "    }\n",
       "\n",
       "    .dataframe tbody tr th {\n",
       "        vertical-align: top;\n",
       "    }\n",
       "\n",
       "    .dataframe thead th {\n",
       "        text-align: right;\n",
       "    }\n",
       "</style>\n",
       "<table border=\"1\" class=\"dataframe\">\n",
       "  <thead>\n",
       "    <tr style=\"text-align: right;\">\n",
       "      <th></th>\n",
       "      <th>non-normalized</th>\n",
       "      <th>normalized</th>\n",
       "    </tr>\n",
       "  </thead>\n",
       "  <tbody>\n",
       "    <tr>\n",
       "      <th>Shooter</th>\n",
       "      <td>129.58</td>\n",
       "      <td>1.20</td>\n",
       "    </tr>\n",
       "    <tr>\n",
       "      <th>Sports</th>\n",
       "      <td>106.94</td>\n",
       "      <td>0.87</td>\n",
       "    </tr>\n",
       "    <tr>\n",
       "      <th>Platform</th>\n",
       "      <td>15.93</td>\n",
       "      <td>0.53</td>\n",
       "    </tr>\n",
       "    <tr>\n",
       "      <th>Action</th>\n",
       "      <td>144.44</td>\n",
       "      <td>0.50</td>\n",
       "    </tr>\n",
       "    <tr>\n",
       "      <th>Role-Playing</th>\n",
       "      <td>51.08</td>\n",
       "      <td>0.50</td>\n",
       "    </tr>\n",
       "    <tr>\n",
       "      <th>Racing</th>\n",
       "      <td>23.05</td>\n",
       "      <td>0.46</td>\n",
       "    </tr>\n",
       "    <tr>\n",
       "      <th>Simulation</th>\n",
       "      <td>9.48</td>\n",
       "      <td>0.43</td>\n",
       "    </tr>\n",
       "    <tr>\n",
       "      <th>Misc</th>\n",
       "      <td>15.84</td>\n",
       "      <td>0.39</td>\n",
       "    </tr>\n",
       "    <tr>\n",
       "      <th>Fighting</th>\n",
       "      <td>13.27</td>\n",
       "      <td>0.37</td>\n",
       "    </tr>\n",
       "    <tr>\n",
       "      <th>Puzzle</th>\n",
       "      <td>1.28</td>\n",
       "      <td>0.32</td>\n",
       "    </tr>\n",
       "    <tr>\n",
       "      <th>Strategy</th>\n",
       "      <td>2.55</td>\n",
       "      <td>0.20</td>\n",
       "    </tr>\n",
       "    <tr>\n",
       "      <th>Adventure</th>\n",
       "      <td>7.06</td>\n",
       "      <td>0.17</td>\n",
       "    </tr>\n",
       "  </tbody>\n",
       "</table>\n",
       "</div>"
      ],
      "text/plain": [
       "              non-normalized  normalized\n",
       "Shooter               129.58        1.20\n",
       "Sports                106.94        0.87\n",
       "Platform               15.93        0.53\n",
       "Action                144.44        0.50\n",
       "Role-Playing           51.08        0.50\n",
       "Racing                 23.05        0.46\n",
       "Simulation              9.48        0.43\n",
       "Misc                   15.84        0.39\n",
       "Fighting               13.27        0.37\n",
       "Puzzle                  1.28        0.32\n",
       "Strategy                2.55        0.20\n",
       "Adventure               7.06        0.17"
      ]
     },
     "metadata": {},
     "output_type": "display_data"
    }
   ],
   "source": [
    "# profitability by platform for multiplatform games\n",
    "sales_by_genre = genre_data.pivot_table(index=[\"genre\"],values=[\"total_revenue\"], aggfunc=\"sum\")\n",
    "\n",
    "genres = {}\n",
    "genres_normalized = {} \n",
    "num_genre_titles = {}\n",
    "for genre in sales_by_genre[\"total_revenue\"].index:\n",
    "    genres[genre] = sales_by_genre.loc[genre, \"total_revenue\"]\n",
    "    genres_normalized[genre] = [0,0]\n",
    "    num_genre_titles[genre] = 0\n",
    "\n",
    "for index, row in genre_data.iterrows():\n",
    "    num_genre_titles[row[\"genre\"]] += 1\n",
    "    \n",
    "for genre in genres_normalized.keys():\n",
    "    genres_normalized[genre][0] = genres[genre]\n",
    "    genres_normalized[genre][1] = genres[genre]/num_genre_titles[genre]\n",
    "\n",
    "final_genre_data = pd.DataFrame(genres_normalized, index=[\"non-normalized\", \"normalized\"]).T\n",
    "\n",
    "display(final_genre_data.sort_values(by=\"normalized\", ascending=False))"
   ]
  },
  {
   "cell_type": "markdown",
   "metadata": {},
   "source": [
    "### Notes"
   ]
  },
  {
   "cell_type": "markdown",
   "metadata": {},
   "source": [
    "Action, Shooter, or Sports games seem to net significantly higher profits than the others, but only Shooters and Sports remain on top after normalizing data."
   ]
  },
  {
   "cell_type": "markdown",
   "metadata": {},
   "source": [
    "### Conclusion"
   ]
  },
  {
   "cell_type": "markdown",
   "metadata": {},
   "source": [
    "After examining various factors, the takeaway appears to be that we want Shooter/Sports games from PS4 if we want to increase the chance of making the big bucks."
   ]
  },
  {
   "cell_type": "markdown",
   "metadata": {},
   "source": [
    "<a id='section_4'></a>"
   ]
  },
  {
   "cell_type": "markdown",
   "metadata": {},
   "source": [
    "## Section 4: Regional Profiles\n",
    "<a href='#section_5'>[Skip to Hypothesis Testing]</a>"
   ]
  },
  {
   "cell_type": "code",
   "execution_count": 31,
   "metadata": {},
   "outputs": [],
   "source": [
    "# TOP 75th PERCENTILE THRESHOLDS (REVENUE)\n",
    "NA_TOP_75 = 0.35\n",
    "EU_TOP_75 = 0.23\n",
    "JP_TOP_75 = 0.02\n",
    "\n",
    "platforms = [platform for platform in recent_games_data[\"platform\"].value_counts().index]\n",
    "genres = [genre for genre in recent_games_data[\"genre\"].value_counts().index]\n",
    "\n",
    "def get_ranking(region, top_75, category, category_list):\n",
    "    rank_by_num_games_and_sales = {}\n",
    "    for item in category_list:\n",
    "        rank_by_num_games_and_sales[item] = [0,0]\n",
    "        \n",
    "    for index, row in recent_games_data.iterrows():\n",
    "        if row[region] > 0:\n",
    "            rank_by_num_games_and_sales[row[category]][0] += 1\n",
    "        if row[region] > top_75:\n",
    "            rank_by_num_games_and_sales[row[category]][1] += row[region]\n",
    "    \n",
    "    return pd.DataFrame(rank_by_num_games_and_sales, index=[\"num_games\", \"total_revenue\"]).T"
   ]
  },
  {
   "cell_type": "code",
   "execution_count": 32,
   "metadata": {},
   "outputs": [
    {
     "name": "stdout",
     "output_type": "stream",
     "text": [
      "NA REGIONAL PROFILE\n",
      "  ----------------------TOP 5 PLATFORMS-----------------------------------TOP 5 GENRES----------------------\n"
     ]
    },
    {
     "data": {
      "text/html": [
       "<table style=\"display:inline\" border=\"1\" class=\"dataframe\">\n",
       "  <thead>\n",
       "    <tr style=\"text-align: right;\">\n",
       "      <th></th>\n",
       "      <th>num_games</th>\n",
       "      <th>total_revenue</th>\n",
       "    </tr>\n",
       "  </thead>\n",
       "  <tbody>\n",
       "    <tr>\n",
       "      <th>PS4</th>\n",
       "      <td>198.0</td>\n",
       "      <td>61.71</td>\n",
       "    </tr>\n",
       "    <tr>\n",
       "      <th>XOne</th>\n",
       "      <td>148.0</td>\n",
       "      <td>55.20</td>\n",
       "    </tr>\n",
       "    <tr>\n",
       "      <th>PS3</th>\n",
       "      <td>86.0</td>\n",
       "      <td>8.41</td>\n",
       "    </tr>\n",
       "    <tr>\n",
       "      <th>X360</th>\n",
       "      <td>77.0</td>\n",
       "      <td>17.65</td>\n",
       "    </tr>\n",
       "    <tr>\n",
       "      <th>PC</th>\n",
       "      <td>58.0</td>\n",
       "      <td>1.90</td>\n",
       "    </tr>\n",
       "  </tbody>\n",
       "</table style=\"display:inline\"><table style=\"display:inline\" border=\"1\" class=\"dataframe\">\n",
       "  <thead>\n",
       "    <tr style=\"text-align: right;\">\n",
       "      <th></th>\n",
       "      <th>num_games</th>\n",
       "      <th>total_revenue</th>\n",
       "    </tr>\n",
       "  </thead>\n",
       "  <tbody>\n",
       "    <tr>\n",
       "      <th>PS4</th>\n",
       "      <td>198.0</td>\n",
       "      <td>61.71</td>\n",
       "    </tr>\n",
       "    <tr>\n",
       "      <th>XOne</th>\n",
       "      <td>148.0</td>\n",
       "      <td>55.20</td>\n",
       "    </tr>\n",
       "    <tr>\n",
       "      <th>X360</th>\n",
       "      <td>77.0</td>\n",
       "      <td>17.65</td>\n",
       "    </tr>\n",
       "    <tr>\n",
       "      <th>WiiU</th>\n",
       "      <td>41.0</td>\n",
       "      <td>11.17</td>\n",
       "    </tr>\n",
       "    <tr>\n",
       "      <th>PS3</th>\n",
       "      <td>86.0</td>\n",
       "      <td>8.41</td>\n",
       "    </tr>\n",
       "  </tbody>\n",
       "</table style=\"display:inline\"><table style=\"display:inline\" border=\"1\" class=\"dataframe\">\n",
       "  <thead>\n",
       "    <tr style=\"text-align: right;\">\n",
       "      <th></th>\n",
       "      <th>num_games</th>\n",
       "      <th>total_revenue</th>\n",
       "    </tr>\n",
       "  </thead>\n",
       "  <tbody>\n",
       "    <tr>\n",
       "      <th>Action</th>\n",
       "      <td>231.0</td>\n",
       "      <td>38.51</td>\n",
       "    </tr>\n",
       "    <tr>\n",
       "      <th>Sports</th>\n",
       "      <td>107.0</td>\n",
       "      <td>37.57</td>\n",
       "    </tr>\n",
       "    <tr>\n",
       "      <th>Shooter</th>\n",
       "      <td>103.0</td>\n",
       "      <td>52.00</td>\n",
       "    </tr>\n",
       "    <tr>\n",
       "      <th>Role-Playing</th>\n",
       "      <td>80.0</td>\n",
       "      <td>13.75</td>\n",
       "    </tr>\n",
       "    <tr>\n",
       "      <th>Misc</th>\n",
       "      <td>40.0</td>\n",
       "      <td>3.35</td>\n",
       "    </tr>\n",
       "  </tbody>\n",
       "</table style=\"display:inline\"><table style=\"display:inline\" border=\"1\" class=\"dataframe\">\n",
       "  <thead>\n",
       "    <tr style=\"text-align: right;\">\n",
       "      <th></th>\n",
       "      <th>num_games</th>\n",
       "      <th>total_revenue</th>\n",
       "    </tr>\n",
       "  </thead>\n",
       "  <tbody>\n",
       "    <tr>\n",
       "      <th>Shooter</th>\n",
       "      <td>103.0</td>\n",
       "      <td>52.00</td>\n",
       "    </tr>\n",
       "    <tr>\n",
       "      <th>Action</th>\n",
       "      <td>231.0</td>\n",
       "      <td>38.51</td>\n",
       "    </tr>\n",
       "    <tr>\n",
       "      <th>Sports</th>\n",
       "      <td>107.0</td>\n",
       "      <td>37.57</td>\n",
       "    </tr>\n",
       "    <tr>\n",
       "      <th>Role-Playing</th>\n",
       "      <td>80.0</td>\n",
       "      <td>13.75</td>\n",
       "    </tr>\n",
       "    <tr>\n",
       "      <th>Racing</th>\n",
       "      <td>33.0</td>\n",
       "      <td>5.16</td>\n",
       "    </tr>\n",
       "  </tbody>\n",
       "</table style=\"display:inline\">"
      ]
     },
     "metadata": {},
     "output_type": "display_data"
    },
    {
     "name": "stdout",
     "output_type": "stream",
     "text": [
      "EU REGIONAL PROFILE\n",
      "  ----------------------TOP 5 PLATFORMS-----------------------------------TOP 5 GENRES----------------------\n"
     ]
    },
    {
     "data": {
      "text/html": [
       "<table style=\"display:inline\" border=\"1\" class=\"dataframe\">\n",
       "  <thead>\n",
       "    <tr style=\"text-align: right;\">\n",
       "      <th></th>\n",
       "      <th>num_games</th>\n",
       "      <th>total_revenue</th>\n",
       "    </tr>\n",
       "  </thead>\n",
       "  <tbody>\n",
       "    <tr>\n",
       "      <th>PS4</th>\n",
       "      <td>198.0</td>\n",
       "      <td>92.68</td>\n",
       "    </tr>\n",
       "    <tr>\n",
       "      <th>XOne</th>\n",
       "      <td>148.0</td>\n",
       "      <td>29.60</td>\n",
       "    </tr>\n",
       "    <tr>\n",
       "      <th>PC</th>\n",
       "      <td>109.0</td>\n",
       "      <td>8.42</td>\n",
       "    </tr>\n",
       "    <tr>\n",
       "      <th>PS3</th>\n",
       "      <td>80.0</td>\n",
       "      <td>14.42</td>\n",
       "    </tr>\n",
       "    <tr>\n",
       "      <th>X360</th>\n",
       "      <td>76.0</td>\n",
       "      <td>8.55</td>\n",
       "    </tr>\n",
       "  </tbody>\n",
       "</table style=\"display:inline\"><table style=\"display:inline\" border=\"1\" class=\"dataframe\">\n",
       "  <thead>\n",
       "    <tr style=\"text-align: right;\">\n",
       "      <th></th>\n",
       "      <th>num_games</th>\n",
       "      <th>total_revenue</th>\n",
       "    </tr>\n",
       "  </thead>\n",
       "  <tbody>\n",
       "    <tr>\n",
       "      <th>PS4</th>\n",
       "      <td>198.0</td>\n",
       "      <td>92.68</td>\n",
       "    </tr>\n",
       "    <tr>\n",
       "      <th>XOne</th>\n",
       "      <td>148.0</td>\n",
       "      <td>29.60</td>\n",
       "    </tr>\n",
       "    <tr>\n",
       "      <th>PS3</th>\n",
       "      <td>80.0</td>\n",
       "      <td>14.42</td>\n",
       "    </tr>\n",
       "    <tr>\n",
       "      <th>X360</th>\n",
       "      <td>76.0</td>\n",
       "      <td>8.55</td>\n",
       "    </tr>\n",
       "    <tr>\n",
       "      <th>WiiU</th>\n",
       "      <td>46.0</td>\n",
       "      <td>8.49</td>\n",
       "    </tr>\n",
       "  </tbody>\n",
       "</table style=\"display:inline\"><table style=\"display:inline\" border=\"1\" class=\"dataframe\">\n",
       "  <thead>\n",
       "    <tr style=\"text-align: right;\">\n",
       "      <th></th>\n",
       "      <th>num_games</th>\n",
       "      <th>total_revenue</th>\n",
       "    </tr>\n",
       "  </thead>\n",
       "  <tbody>\n",
       "    <tr>\n",
       "      <th>Action</th>\n",
       "      <td>258.0</td>\n",
       "      <td>47.49</td>\n",
       "    </tr>\n",
       "    <tr>\n",
       "      <th>Sports</th>\n",
       "      <td>113.0</td>\n",
       "      <td>38.36</td>\n",
       "    </tr>\n",
       "    <tr>\n",
       "      <th>Shooter</th>\n",
       "      <td>100.0</td>\n",
       "      <td>43.78</td>\n",
       "    </tr>\n",
       "    <tr>\n",
       "      <th>Role-Playing</th>\n",
       "      <td>85.0</td>\n",
       "      <td>13.47</td>\n",
       "    </tr>\n",
       "    <tr>\n",
       "      <th>Racing</th>\n",
       "      <td>46.0</td>\n",
       "      <td>9.26</td>\n",
       "    </tr>\n",
       "  </tbody>\n",
       "</table style=\"display:inline\"><table style=\"display:inline\" border=\"1\" class=\"dataframe\">\n",
       "  <thead>\n",
       "    <tr style=\"text-align: right;\">\n",
       "      <th></th>\n",
       "      <th>num_games</th>\n",
       "      <th>total_revenue</th>\n",
       "    </tr>\n",
       "  </thead>\n",
       "  <tbody>\n",
       "    <tr>\n",
       "      <th>Action</th>\n",
       "      <td>258.0</td>\n",
       "      <td>47.49</td>\n",
       "    </tr>\n",
       "    <tr>\n",
       "      <th>Shooter</th>\n",
       "      <td>100.0</td>\n",
       "      <td>43.78</td>\n",
       "    </tr>\n",
       "    <tr>\n",
       "      <th>Sports</th>\n",
       "      <td>113.0</td>\n",
       "      <td>38.36</td>\n",
       "    </tr>\n",
       "    <tr>\n",
       "      <th>Role-Playing</th>\n",
       "      <td>85.0</td>\n",
       "      <td>13.47</td>\n",
       "    </tr>\n",
       "    <tr>\n",
       "      <th>Racing</th>\n",
       "      <td>46.0</td>\n",
       "      <td>9.26</td>\n",
       "    </tr>\n",
       "  </tbody>\n",
       "</table style=\"display:inline\">"
      ]
     },
     "metadata": {},
     "output_type": "display_data"
    },
    {
     "name": "stdout",
     "output_type": "stream",
     "text": [
      "JP REGIONAL PROFILE\n",
      "  ----------------------TOP 5 PLATFORMS-----------------------------------TOP 5 GENRES----------------------\n"
     ]
    },
    {
     "data": {
      "text/html": [
       "<table style=\"display:inline\" border=\"1\" class=\"dataframe\">\n",
       "  <thead>\n",
       "    <tr style=\"text-align: right;\">\n",
       "      <th></th>\n",
       "      <th>num_games</th>\n",
       "      <th>total_revenue</th>\n",
       "    </tr>\n",
       "  </thead>\n",
       "  <tbody>\n",
       "    <tr>\n",
       "      <th>PS4</th>\n",
       "      <td>118.0</td>\n",
       "      <td>7.86</td>\n",
       "    </tr>\n",
       "    <tr>\n",
       "      <th>PSV</th>\n",
       "      <td>56.0</td>\n",
       "      <td>4.77</td>\n",
       "    </tr>\n",
       "    <tr>\n",
       "      <th>PS3</th>\n",
       "      <td>55.0</td>\n",
       "      <td>4.50</td>\n",
       "    </tr>\n",
       "    <tr>\n",
       "      <th>3DS</th>\n",
       "      <td>44.0</td>\n",
       "      <td>9.99</td>\n",
       "    </tr>\n",
       "    <tr>\n",
       "      <th>WiiU</th>\n",
       "      <td>27.0</td>\n",
       "      <td>5.70</td>\n",
       "    </tr>\n",
       "  </tbody>\n",
       "</table style=\"display:inline\"><table style=\"display:inline\" border=\"1\" class=\"dataframe\">\n",
       "  <thead>\n",
       "    <tr style=\"text-align: right;\">\n",
       "      <th></th>\n",
       "      <th>num_games</th>\n",
       "      <th>total_revenue</th>\n",
       "    </tr>\n",
       "  </thead>\n",
       "  <tbody>\n",
       "    <tr>\n",
       "      <th>3DS</th>\n",
       "      <td>44.0</td>\n",
       "      <td>9.99</td>\n",
       "    </tr>\n",
       "    <tr>\n",
       "      <th>PS4</th>\n",
       "      <td>118.0</td>\n",
       "      <td>7.86</td>\n",
       "    </tr>\n",
       "    <tr>\n",
       "      <th>WiiU</th>\n",
       "      <td>27.0</td>\n",
       "      <td>5.70</td>\n",
       "    </tr>\n",
       "    <tr>\n",
       "      <th>PSV</th>\n",
       "      <td>56.0</td>\n",
       "      <td>4.77</td>\n",
       "    </tr>\n",
       "    <tr>\n",
       "      <th>PS3</th>\n",
       "      <td>55.0</td>\n",
       "      <td>4.50</td>\n",
       "    </tr>\n",
       "  </tbody>\n",
       "</table style=\"display:inline\"><table style=\"display:inline\" border=\"1\" class=\"dataframe\">\n",
       "  <thead>\n",
       "    <tr style=\"text-align: right;\">\n",
       "      <th></th>\n",
       "      <th>num_games</th>\n",
       "      <th>total_revenue</th>\n",
       "    </tr>\n",
       "  </thead>\n",
       "  <tbody>\n",
       "    <tr>\n",
       "      <th>Action</th>\n",
       "      <td>112.0</td>\n",
       "      <td>8.30</td>\n",
       "    </tr>\n",
       "    <tr>\n",
       "      <th>Role-Playing</th>\n",
       "      <td>64.0</td>\n",
       "      <td>9.66</td>\n",
       "    </tr>\n",
       "    <tr>\n",
       "      <th>Shooter</th>\n",
       "      <td>40.0</td>\n",
       "      <td>4.00</td>\n",
       "    </tr>\n",
       "    <tr>\n",
       "      <th>Sports</th>\n",
       "      <td>25.0</td>\n",
       "      <td>1.59</td>\n",
       "    </tr>\n",
       "    <tr>\n",
       "      <th>Fighting</th>\n",
       "      <td>22.0</td>\n",
       "      <td>1.81</td>\n",
       "    </tr>\n",
       "  </tbody>\n",
       "</table style=\"display:inline\"><table style=\"display:inline\" border=\"1\" class=\"dataframe\">\n",
       "  <thead>\n",
       "    <tr style=\"text-align: right;\">\n",
       "      <th></th>\n",
       "      <th>num_games</th>\n",
       "      <th>total_revenue</th>\n",
       "    </tr>\n",
       "  </thead>\n",
       "  <tbody>\n",
       "    <tr>\n",
       "      <th>Role-Playing</th>\n",
       "      <td>64.0</td>\n",
       "      <td>9.66</td>\n",
       "    </tr>\n",
       "    <tr>\n",
       "      <th>Action</th>\n",
       "      <td>112.0</td>\n",
       "      <td>8.30</td>\n",
       "    </tr>\n",
       "    <tr>\n",
       "      <th>Shooter</th>\n",
       "      <td>40.0</td>\n",
       "      <td>4.00</td>\n",
       "    </tr>\n",
       "    <tr>\n",
       "      <th>Platform</th>\n",
       "      <td>13.0</td>\n",
       "      <td>2.48</td>\n",
       "    </tr>\n",
       "    <tr>\n",
       "      <th>Simulation</th>\n",
       "      <td>5.0</td>\n",
       "      <td>1.89</td>\n",
       "    </tr>\n",
       "  </tbody>\n",
       "</table style=\"display:inline\">"
      ]
     },
     "metadata": {},
     "output_type": "display_data"
    }
   ],
   "source": [
    "# NA Regional Profile\n",
    "na_regional_platform_profile = get_ranking(\"na_sales\", NA_TOP_75, \"platform\", platforms)\n",
    "na_regional_genre_profile = get_ranking(\"na_sales\", NA_TOP_75, \"genre\", genres)\n",
    "\n",
    "print(\"NA REGIONAL PROFILE\\n  ----------------------TOP 5 PLATFORMS-----------------------------------TOP 5 GENRES----------------------\")\n",
    "display_side_by_side(na_regional_platform_profile.sort_values(by=\"num_games\", ascending=False)[0:5],\\\n",
    "                     na_regional_platform_profile.sort_values(by=\"total_revenue\", ascending=False)[0:5],\\\n",
    "                     na_regional_genre_profile.sort_values(by=\"num_games\", ascending=False)[0:5],\\\n",
    "                     na_regional_genre_profile.sort_values(by=\"total_revenue\", ascending=False)[0:5])\n",
    "\n",
    "# EU Regional Profile\n",
    "eu_regional_platform_profile = get_ranking(\"eu_sales\", EU_TOP_75, \"platform\", platforms)\n",
    "eu_regional_genre_profile = get_ranking(\"eu_sales\", EU_TOP_75, \"genre\", genres)\n",
    "\n",
    "print(\"EU REGIONAL PROFILE\\n  ----------------------TOP 5 PLATFORMS-----------------------------------TOP 5 GENRES----------------------\")\n",
    "display_side_by_side(eu_regional_platform_profile.sort_values(by=\"num_games\", ascending=False)[0:5],\\\n",
    "                     eu_regional_platform_profile.sort_values(by=\"total_revenue\", ascending=False)[0:5],\\\n",
    "                     eu_regional_genre_profile.sort_values(by=\"num_games\", ascending=False)[0:5],\\\n",
    "                     eu_regional_genre_profile.sort_values(by=\"total_revenue\", ascending=False)[0:5])\n",
    "\n",
    "# JP Regional Profile\n",
    "jp_regional_platform_profile = get_ranking(\"jp_sales\", JP_TOP_75, \"platform\", platforms)\n",
    "jp_regional_genre_profile = get_ranking(\"jp_sales\", JP_TOP_75, \"genre\", genres)\n",
    "\n",
    "print(\"JP REGIONAL PROFILE\\n  ----------------------TOP 5 PLATFORMS-----------------------------------TOP 5 GENRES----------------------\")\n",
    "display_side_by_side(jp_regional_platform_profile.sort_values(by=\"num_games\", ascending=False)[0:5],\\\n",
    "                     jp_regional_platform_profile.sort_values(by=\"total_revenue\", ascending=False)[0:5],\\\n",
    "                     jp_regional_genre_profile.sort_values(by=\"num_games\", ascending=False)[0:5],\\\n",
    "                     jp_regional_genre_profile.sort_values(by=\"total_revenue\", ascending=False)[0:5])"
   ]
  },
  {
   "cell_type": "markdown",
   "metadata": {},
   "source": [
    "NOTE: We did not count 0 USD revenues in these rankings because -\n",
    "- It would not affect the revenue metric\n",
    "- It better depicts a difference in the regions by platform and genre\n",
    "\n",
    "PLATFORMS:\n",
    "- The North American market appears to have a sizeable preference for PS4 by game count, but a minor preference by revenue\n",
    "- The European market is the best place to peddle PC games it seems\n",
    "- The Japanese market strongly prefers local brands as evidenced by both the game count and revenue for the top 5\n",
    "- Overall: A PS4 game will sell better cross regionally\n",
    "\n",
    "GENRES:\n",
    "- In the North American market it's hard to go wrong with the Action/Shooter/Sports trio\n",
    "- In the European market we find the same trends as in the North American market\n",
    "- In the Japanese market they appreciate the Role-playing genre significantly more, but the Action and Shooter genres likewise makes a strong impression there"
   ]
  },
  {
   "cell_type": "code",
   "execution_count": 33,
   "metadata": {},
   "outputs": [
    {
     "name": "stdout",
     "output_type": "stream",
     "text": [
      "NA SALES BY RATING\n"
     ]
    },
    {
     "data": {
      "text/html": [
       "<table style=\"display:inline\" border=\"1\" class=\"dataframe\">\n",
       "  <thead>\n",
       "    <tr style=\"text-align: right;\">\n",
       "      <th></th>\n",
       "      <th>num_games</th>\n",
       "      <th>revenue</th>\n",
       "    </tr>\n",
       "  </thead>\n",
       "  <tbody>\n",
       "    <tr>\n",
       "      <th>E</th>\n",
       "      <td>1.0</td>\n",
       "      <td>50.29</td>\n",
       "    </tr>\n",
       "    <tr>\n",
       "      <th>E10+</th>\n",
       "      <td>2.0</td>\n",
       "      <td>31.19</td>\n",
       "    </tr>\n",
       "    <tr>\n",
       "      <th>T</th>\n",
       "      <td>3.0</td>\n",
       "      <td>38.76</td>\n",
       "    </tr>\n",
       "    <tr>\n",
       "      <th>M</th>\n",
       "      <td>4.0</td>\n",
       "      <td>95.87</td>\n",
       "    </tr>\n",
       "  </tbody>\n",
       "</table style=\"display:inline\"><table style=\"display:inline\" border=\"1\" class=\"dataframe\">\n",
       "  <thead>\n",
       "    <tr style=\"text-align: right;\">\n",
       "      <th></th>\n",
       "      <th>num_games</th>\n",
       "      <th>revenue</th>\n",
       "    </tr>\n",
       "  </thead>\n",
       "  <tbody>\n",
       "    <tr>\n",
       "      <th>num_games</th>\n",
       "      <td>1.00</td>\n",
       "      <td>0.64</td>\n",
       "    </tr>\n",
       "    <tr>\n",
       "      <th>revenue</th>\n",
       "      <td>0.64</td>\n",
       "      <td>1.00</td>\n",
       "    </tr>\n",
       "  </tbody>\n",
       "</table style=\"display:inline\">"
      ]
     },
     "metadata": {},
     "output_type": "display_data"
    },
    {
     "name": "stdout",
     "output_type": "stream",
     "text": [
      "EU SALES BY RATING\n"
     ]
    },
    {
     "data": {
      "text/html": [
       "<table style=\"display:inline\" border=\"1\" class=\"dataframe\">\n",
       "  <thead>\n",
       "    <tr style=\"text-align: right;\">\n",
       "      <th></th>\n",
       "      <th>num_games</th>\n",
       "      <th>revenue</th>\n",
       "    </tr>\n",
       "  </thead>\n",
       "  <tbody>\n",
       "    <tr>\n",
       "      <th>E</th>\n",
       "      <td>1.0</td>\n",
       "      <td>57.54</td>\n",
       "    </tr>\n",
       "    <tr>\n",
       "      <th>E10+</th>\n",
       "      <td>2.0</td>\n",
       "      <td>23.84</td>\n",
       "    </tr>\n",
       "    <tr>\n",
       "      <th>T</th>\n",
       "      <td>3.0</td>\n",
       "      <td>33.93</td>\n",
       "    </tr>\n",
       "    <tr>\n",
       "      <th>M</th>\n",
       "      <td>4.0</td>\n",
       "      <td>92.44</td>\n",
       "    </tr>\n",
       "  </tbody>\n",
       "</table style=\"display:inline\"><table style=\"display:inline\" border=\"1\" class=\"dataframe\">\n",
       "  <thead>\n",
       "    <tr style=\"text-align: right;\">\n",
       "      <th></th>\n",
       "      <th>num_games</th>\n",
       "      <th>revenue</th>\n",
       "    </tr>\n",
       "  </thead>\n",
       "  <tbody>\n",
       "    <tr>\n",
       "      <th>num_games</th>\n",
       "      <td>1.00</td>\n",
       "      <td>0.49</td>\n",
       "    </tr>\n",
       "    <tr>\n",
       "      <th>revenue</th>\n",
       "      <td>0.49</td>\n",
       "      <td>1.00</td>\n",
       "    </tr>\n",
       "  </tbody>\n",
       "</table style=\"display:inline\">"
      ]
     },
     "metadata": {},
     "output_type": "display_data"
    },
    {
     "name": "stdout",
     "output_type": "stream",
     "text": [
      "JP SALES BY RATING\n"
     ]
    },
    {
     "data": {
      "text/html": [
       "<table style=\"display:inline\" border=\"1\" class=\"dataframe\">\n",
       "  <thead>\n",
       "    <tr style=\"text-align: right;\">\n",
       "      <th></th>\n",
       "      <th>num_games</th>\n",
       "      <th>revenue</th>\n",
       "    </tr>\n",
       "  </thead>\n",
       "  <tbody>\n",
       "    <tr>\n",
       "      <th>E</th>\n",
       "      <td>1.0</td>\n",
       "      <td>8.94</td>\n",
       "    </tr>\n",
       "    <tr>\n",
       "      <th>E10+</th>\n",
       "      <td>2.0</td>\n",
       "      <td>4.39</td>\n",
       "    </tr>\n",
       "    <tr>\n",
       "      <th>T</th>\n",
       "      <td>3.0</td>\n",
       "      <td>13.00</td>\n",
       "    </tr>\n",
       "    <tr>\n",
       "      <th>M</th>\n",
       "      <td>4.0</td>\n",
       "      <td>7.95</td>\n",
       "    </tr>\n",
       "  </tbody>\n",
       "</table style=\"display:inline\"><table style=\"display:inline\" border=\"1\" class=\"dataframe\">\n",
       "  <thead>\n",
       "    <tr style=\"text-align: right;\">\n",
       "      <th></th>\n",
       "      <th>num_games</th>\n",
       "      <th>revenue</th>\n",
       "    </tr>\n",
       "  </thead>\n",
       "  <tbody>\n",
       "    <tr>\n",
       "      <th>num_games</th>\n",
       "      <td>1.00</td>\n",
       "      <td>0.21</td>\n",
       "    </tr>\n",
       "    <tr>\n",
       "      <th>revenue</th>\n",
       "      <td>0.21</td>\n",
       "      <td>1.00</td>\n",
       "    </tr>\n",
       "  </tbody>\n",
       "</table style=\"display:inline\">"
      ]
     },
     "metadata": {},
     "output_type": "display_data"
    }
   ],
   "source": [
    "def get_regional_rev_by_ratings(region):\n",
    "    ratings = {'E': [1,0], \"E10+\": [2,0], 'T': [3,0], 'M': [4,0]}\n",
    "\n",
    "    for index, row in recent_games_data.iterrows():\n",
    "        if row[\"rating\"] in ratings.keys() and row[region] > 0:\n",
    "            ratings[row[\"rating\"]][1] += row[region]\n",
    "\n",
    "    return pd.DataFrame(ratings, index=[\"num_games\", \"revenue\"]).T\n",
    "\n",
    "print(\"NA SALES BY RATING\")\n",
    "display_side_by_side(get_regional_rev_by_ratings(\"na_sales\"), get_regional_rev_by_ratings(\"na_sales\").corr())\n",
    "print(\"EU SALES BY RATING\")\n",
    "display_side_by_side(get_regional_rev_by_ratings(\"eu_sales\"), get_regional_rev_by_ratings(\"eu_sales\").corr())\n",
    "print(\"JP SALES BY RATING\")\n",
    "display_side_by_side(get_regional_rev_by_ratings(\"jp_sales\"), get_regional_rev_by_ratings(\"jp_sales\").corr())"
   ]
  },
  {
   "cell_type": "markdown",
   "metadata": {},
   "source": [
    "### Notes"
   ]
  },
  {
   "cell_type": "markdown",
   "metadata": {},
   "source": [
    "NOTE-1: We dropped the RP rating as there was only a single entry\n",
    "\n",
    "NOTE-2: We had to convert the categorical variables into quantitative variables\n",
    "- Here I considered doing it by quantity of units sold, but didn't know if that was appropriate, so ended up arranging them in order of \"intensity\"\n",
    "\n",
    "ESRB EFFECTS:\n",
    "- North America demonstrates a negligible correlation between rating and sales \n",
    "- Europe has a very slightly positive correlation\n",
    "- Japan surprising has a rather strong negative correlation (despite its prolific publishing of adult games)"
   ]
  },
  {
   "cell_type": "markdown",
   "metadata": {},
   "source": [
    "### Conclusion"
   ]
  },
  {
   "cell_type": "markdown",
   "metadata": {},
   "source": [
    "- PS4 has the greatest market share worldwide (with 3DS having a slight advantage in Japan)\n",
    "- Action and Shooter genres tend to sell well worldwide\n",
    "- ESRB only seems to matter in Japan."
   ]
  },
  {
   "cell_type": "markdown",
   "metadata": {},
   "source": [
    "<a id='section_5'></a>"
   ]
  },
  {
   "cell_type": "markdown",
   "metadata": {},
   "source": [
    "# Section 5: Hypothesis Testing\n",
    "<a href='#section_6'>[Skip to conclusion]</a>"
   ]
  },
  {
   "cell_type": "markdown",
   "metadata": {},
   "source": [
    "We are offered two hypotheses, the null version of which is (respectively):\n",
    "- H_0_a: Average user_score of the Xbox One = Average user_score of the PC\n",
    "- H_0_b: Average user_score for the Action = Average user_score for the Sports genre\n",
    "\n",
    "The alternative hypothesis for these two are (respectively):\n",
    "- H_1_a: Average user_score of the Xbox One ≠ Average user_score of the PC\n",
    "- H_1_b: Average user_score for the Action ≠ Average user_score for the Sports genre\n",
    "\n",
    "We will use an α = 0.01 because the sample is sufficiently large and we thus do not need to account for larger swings from the mean"
   ]
  },
  {
   "cell_type": "code",
   "execution_count": 34,
   "metadata": {},
   "outputs": [
    {
     "name": "stdout",
     "output_type": "stream",
     "text": [
      "XOne vs PC average user rating p-value: 0.08405\n"
     ]
    }
   ],
   "source": [
    "xone_ratings = recent_games_data.loc[recent_games_data[\"platform\"] == \"XOne\", \"user_score\"]\n",
    "pc_ratings = recent_games_data.loc[recent_games_data[\"platform\"] == \"PC\", \"user_score\"]\n",
    "\n",
    "results = st.ttest_ind(xone_ratings, pc_ratings)\n",
    "print(f\"XOne vs PC average user rating p-value: {results.pvalue:0.5f}\")"
   ]
  },
  {
   "cell_type": "markdown",
   "metadata": {},
   "source": [
    "We cannot reject the null hypothesis as the p-value is greater than our chosen alpha."
   ]
  },
  {
   "cell_type": "code",
   "execution_count": 35,
   "metadata": {},
   "outputs": [
    {
     "name": "stdout",
     "output_type": "stream",
     "text": [
      "Action vs Sports average user rating p-value: 0.000000000000000\n"
     ]
    }
   ],
   "source": [
    "action_ratings = recent_games_data.loc[recent_games_data[\"genre\"] == \"Action\", \"user_score\"]\n",
    "sports_ratings = recent_games_data.loc[recent_games_data[\"genre\"] == \"Sports\", \"user_score\"]\n",
    "\n",
    "results = st.ttest_ind(action_ratings, sports_ratings)\n",
    "print(f\"Action vs Sports average user rating p-value: {results.pvalue:0.15f}\")"
   ]
  },
  {
   "cell_type": "markdown",
   "metadata": {},
   "source": [
    "We are entitled to reject the null hypothesis because the p-value is well below our chosen alpha."
   ]
  },
  {
   "cell_type": "markdown",
   "metadata": {},
   "source": [
    "### Conclusion"
   ]
  },
  {
   "cell_type": "markdown",
   "metadata": {},
   "source": [
    "We find that by a slight margin we cannot reject the null hypothesis H_0_a because 0.03 does not quite meet our exacting standards. But by Zeus' beard! We certainly seem justified in rejecting the null hypothesis H_0_b because the mean for these two samples couldn't be further apart if they tried."
   ]
  },
  {
   "cell_type": "markdown",
   "metadata": {},
   "source": [
    "<a id='section_6'></a>"
   ]
  },
  {
   "cell_type": "markdown",
   "metadata": {},
   "source": [
    "# Section 6: Conclusion\n",
    "<a href='#toc'>[Return to Table of Contents]</a>"
   ]
  },
  {
   "cell_type": "markdown",
   "metadata": {},
   "source": [
    "In sum, we found the following results:\n",
    "\n",
    "Section 2:\n",
    "- Cleaned and culled the data to only the relevant values from 2014-present, for a more accurate view of recent trends\n",
    "\n",
    "Section 3:\n",
    "- Shooter/Sports games from PS4/WiiU seem to have high financial success\n",
    "\n",
    "Section 4:\n",
    "- A PS4 game will sell better cross-regionally\n",
    "- Action & Shooter games seem to do the best cross-regionally\n",
    "- ESRB ratings only seem to have an effect in Japan (where more mature games garner lower revenue)\n",
    "\n",
    "Setcion 5:\n",
    "- Average user_score does seem to be similar for Xbox One and PC users\n",
    "- Average user_score for the Action genre is not the same as the average for Sports, though"
   ]
  }
 ],
 "metadata": {
  "kernelspec": {
   "display_name": "Python 3",
   "language": "python",
   "name": "python3"
  },
  "language_info": {
   "codemirror_mode": {
    "name": "ipython",
    "version": 3
   },
   "file_extension": ".py",
   "mimetype": "text/x-python",
   "name": "python",
   "nbconvert_exporter": "python",
   "pygments_lexer": "ipython3",
   "version": "3.9.1"
  },
  "toc": {
   "base_numbering": 1,
   "nav_menu": {},
   "number_sections": true,
   "sideBar": true,
   "skip_h1_title": false,
   "title_cell": "Table of Contents",
   "title_sidebar": "Contents",
   "toc_cell": false,
   "toc_position": {},
   "toc_section_display": true,
   "toc_window_display": false
  }
 },
 "nbformat": 4,
 "nbformat_minor": 4
}
